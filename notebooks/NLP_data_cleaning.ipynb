{
  "cells": [
    {
      "cell_type": "code",
      "execution_count": null,
      "metadata": {
        "id": "aTSw2fJq0911"
      },
      "outputs": [],
      "source": [
        "%reload_ext autoreload\n",
        "%autoreload 2\n",
        "%matplotlib inline"
      ]
    },
    {
      "cell_type": "code",
      "execution_count": null,
      "metadata": {
        "id": "qlmHfGUiG2qk"
      },
      "outputs": [],
      "source": [
        "!pip install -q transformers[sentencepiece] fastai nbdev fastbook ohmeow-blurr"
      ]
    },
    {
      "cell_type": "code",
      "execution_count": null,
      "metadata": {
        "colab": {
          "base_uri": "https://localhost:8080/"
        },
        "id": "U6ewzzC34TPn",
        "outputId": "80d637a5-c481-4e0b-fa2f-830fb92da34a"
      },
      "outputs": [
        {
          "output_type": "stream",
          "name": "stderr",
          "text": [
            "/usr/local/lib/python3.10/dist-packages/blurr/text/modeling/question_answering.py:31: FutureWarning: load_metric is deprecated and will be removed in the next major version of datasets. Use 'evaluate.load' instead, from the new library 🤗 Evaluate: https://huggingface.co/docs/evaluate\n",
            "  squad_metric = load_metric(\"squad\")\n"
          ]
        }
      ],
      "source": [
        "from fastai.text.all import *\n",
        "import torch\n",
        "from transformers import AutoModelForSequenceClassification, AutoConfig\n",
        "from blurr.text.data.all import *\n",
        "from blurr.text.modeling.all import *\n",
        "import pandas as pd"
      ]
    },
    {
      "cell_type": "code",
      "source": [
        "import pandas as pd"
      ],
      "metadata": {
        "id": "RaY6tWfxIEPg"
      },
      "execution_count": null,
      "outputs": []
    },
    {
      "cell_type": "code",
      "execution_count": null,
      "metadata": {
        "colab": {
          "base_uri": "https://localhost:8080/"
        },
        "id": "NfOGMddl6K3G",
        "outputId": "1f2e15a6-e17c-43f6-8a2c-a7be19171c0b"
      },
      "outputs": [
        {
          "output_type": "stream",
          "name": "stdout",
          "text": [
            "Mounted at /content/drive\n"
          ]
        }
      ],
      "source": [
        "from google.colab import drive\n",
        "drive.mount('/content/drive')"
      ]
    },
    {
      "cell_type": "code",
      "execution_count": null,
      "metadata": {
        "colab": {
          "base_uri": "https://localhost:8080/"
        },
        "id": "tC1cWKW5QsK7",
        "outputId": "0c8844c7-ee73-42a6-d20a-15e73f81b249"
      },
      "outputs": [
        {
          "output_type": "stream",
          "name": "stdout",
          "text": [
            "/content/drive/.shortcut-targets-by-id/1ijxO7bmhCZdrDAzQZnE4FZhf032K0Icj/Colab Projects/NLP Models\n"
          ]
        }
      ],
      "source": [
        "%cd /content/drive/My Drive/Colab Projects/NLP Models"
      ]
    },
    {
      "cell_type": "code",
      "execution_count": null,
      "metadata": {
        "colab": {
          "base_uri": "https://localhost:8080/"
        },
        "id": "O7R56T7aczMY",
        "outputId": "592128f8-8cdf-4f91-e621-e691d777a046"
      },
      "outputs": [
        {
          "output_type": "stream",
          "name": "stdout",
          "text": [
            "\u001b[0m\u001b[01;34mdata\u001b[0m/                     story-genre-classifier.pkl\n",
            "genre_types_encoded.json  story-genre-classifier-v0.pkl\n",
            "\u001b[01;34mmodels\u001b[0m/\n"
          ]
        }
      ],
      "source": [
        "%ls"
      ]
    },
    {
      "cell_type": "code",
      "execution_count": null,
      "metadata": {
        "id": "k-jD-f_Dcc_k"
      },
      "outputs": [],
      "source": [
        "df = pd.read_csv(r\"/content/drive/MyDrive/Colab Projects/NLP Models/data/fiction_data_with_tags_and_cover_url.csv\")"
      ]
    },
    {
      "cell_type": "code",
      "execution_count": null,
      "metadata": {
        "id": "YzmhNQh172Et"
      },
      "outputs": [],
      "source": [
        "df.head()"
      ]
    },
    {
      "cell_type": "code",
      "execution_count": null,
      "metadata": {
        "id": "HzwnZSx5dEnj"
      },
      "outputs": [],
      "source": [
        "df = df.drop(columns=['Cover_URL'])"
      ]
    },
    {
      "cell_type": "code",
      "execution_count": null,
      "metadata": {
        "id": "gt8IC8ik-ZN1"
      },
      "outputs": [],
      "source": [
        "df = df.drop(columns=['Color Info'])"
      ]
    },
    {
      "cell_type": "code",
      "execution_count": null,
      "metadata": {
        "colab": {
          "base_uri": "https://localhost:8080/"
        },
        "id": "u8E_bMKa08WB",
        "outputId": "dcd39b36-cbed-4208-c53a-9baa2e4c510f"
      },
      "outputs": [
        {
          "output_type": "execute_result",
          "data": {
            "text/plain": [
              "(55447, 3)"
            ]
          },
          "metadata": {},
          "execution_count": 9
        }
      ],
      "source": [
        "df.shape"
      ]
    },
    {
      "cell_type": "code",
      "execution_count": null,
      "metadata": {
        "colab": {
          "base_uri": "https://localhost:8080/"
        },
        "id": "Tc2H4mONtT8T",
        "outputId": "2920ecbb-6574-4b5f-fd82-ae57d1f95bc4"
      },
      "outputs": [
        {
          "output_type": "stream",
          "name": "stdout",
          "text": [
            "Collecting langdetect\n",
            "  Downloading langdetect-1.0.9.tar.gz (981 kB)\n",
            "\u001b[?25l     \u001b[90m━━━━━━━━━━━━━━━━━━━━━━━━━━━━━━━━━━━━━━━━\u001b[0m \u001b[32m0.0/981.5 kB\u001b[0m \u001b[31m?\u001b[0m eta \u001b[36m-:--:--\u001b[0m\r\u001b[2K     \u001b[91m━━━━\u001b[0m\u001b[91m╸\u001b[0m\u001b[90m━━━━━━━━━━━━━━━━━━━━━━━━━━━━━━━━━━\u001b[0m \u001b[32m122.9/981.5 kB\u001b[0m \u001b[31m3.4 MB/s\u001b[0m eta \u001b[36m0:00:01\u001b[0m\r\u001b[2K     \u001b[90m━━━━━━━━━━━━━━━━━━━━━━━━━━━━━━━━━━━━━━\u001b[0m \u001b[32m981.5/981.5 kB\u001b[0m \u001b[31m17.4 MB/s\u001b[0m eta \u001b[36m0:00:00\u001b[0m\n",
            "\u001b[?25h  Preparing metadata (setup.py) ... \u001b[?25l\u001b[?25hdone\n",
            "Requirement already satisfied: six in /usr/local/lib/python3.10/dist-packages (from langdetect) (1.16.0)\n",
            "Building wheels for collected packages: langdetect\n",
            "  Building wheel for langdetect (setup.py) ... \u001b[?25l\u001b[?25hdone\n",
            "  Created wheel for langdetect: filename=langdetect-1.0.9-py3-none-any.whl size=993224 sha256=8998eb63352774ebeb9c385b2ec4b8622e010f12a3eb01a54fffce1ffdf5c147\n",
            "  Stored in directory: /root/.cache/pip/wheels/95/03/7d/59ea870c70ce4e5a370638b5462a7711ab78fba2f655d05106\n",
            "Successfully built langdetect\n",
            "Installing collected packages: langdetect\n",
            "Successfully installed langdetect-1.0.9\n"
          ]
        }
      ],
      "source": [
        "!pip install langdetect"
      ]
    },
    {
      "cell_type": "code",
      "execution_count": null,
      "metadata": {
        "id": "QkAt-lVytOVF"
      },
      "outputs": [],
      "source": [
        "from langdetect import detect\n",
        "import re\n",
        "\n",
        "# Define a function to check if a description is in English\n",
        "def is_english(description):\n",
        "    try:\n",
        "        lang = detect(description)\n",
        "        return lang == 'en'\n",
        "    except:\n",
        "        return False\n",
        "\n",
        "# Define a function to check if a description contains a reasonable amount of English words\n",
        "def has_reasonable_english_words(description):\n",
        "    english_words = re.findall(r'\\b\\w+\\b', description)\n",
        "    return len(english_words) > 5  # Adjust the threshold as needed\n",
        "\n",
        "# Apply the functions to filter inaccurate descriptions\n",
        "df['is_english'] = df['Description'].apply(lambda x: is_english(str(x)))\n",
        "df['has_reasonable_english_words'] = df['Description'].apply(lambda x: has_reasonable_english_words(str(x)))\n",
        "\n",
        "# Filter out inaccurate descriptions and keep only valid ones\n",
        "filtered_df = df[(df['is_english'] == True) & (df['has_reasonable_english_words'] == True)]\n",
        "\n",
        "# Drop the temporary columns\n",
        "filtered_df = filtered_df.drop(columns=['is_english', 'has_reasonable_english_words'])\n",
        "\n",
        "# Now 'filtered_df' contains descriptions that are likely to be accurate and in English"
      ]
    },
    {
      "cell_type": "code",
      "execution_count": null,
      "metadata": {
        "id": "sianlL1gTMKA"
      },
      "outputs": [],
      "source": [
        "def remove_non_letter_characters(text):\n",
        "    # Define a regular expression pattern to match non-letter characters\n",
        "    pattern = r'[^a-zA-Z\\s]'\n",
        "    # Replace non-letter characters with an empty string\n",
        "    cleaned_text = re.sub(pattern, '', text)\n",
        "    return cleaned_text\n",
        "\n",
        "# Apply the function to remove non-letter characters from the description\n",
        "filtered_df['Description'] = filtered_df['Description'].apply(remove_non_letter_characters)"
      ]
    },
    {
      "cell_type": "code",
      "execution_count": null,
      "metadata": {
        "colab": {
          "base_uri": "https://localhost:8080/"
        },
        "id": "AKfoKk1atfzE",
        "outputId": "565e801c-dd61-4500-e189-2649165a64d6"
      },
      "outputs": [
        {
          "output_type": "execute_result",
          "data": {
            "text/plain": [
              "(54122, 3)"
            ]
          },
          "metadata": {},
          "execution_count": 11
        }
      ],
      "source": [
        "filtered_df.shape"
      ]
    },
    {
      "cell_type": "code",
      "execution_count": null,
      "metadata": {
        "id": "DQJZLzsTwISc"
      },
      "outputs": [],
      "source": [
        "df = filtered_df"
      ]
    },
    {
      "cell_type": "code",
      "execution_count": null,
      "metadata": {
        "id": "UCkSUAdWwNqL"
      },
      "outputs": [],
      "source": [
        "df"
      ]
    },
    {
      "cell_type": "code",
      "source": [
        "df.to_csv(\"fiction data cleaned.csv\")"
      ],
      "metadata": {
        "id": "aumUriLc1Xxr"
      },
      "execution_count": null,
      "outputs": []
    },
    {
      "cell_type": "code",
      "source": [
        "df = pd.read_csv(r\"/content/drive/MyDrive/Colab Projects/NLP Models/data/fiction data cleaned.csv\")"
      ],
      "metadata": {
        "id": "QsfbqnwN1_3C"
      },
      "execution_count": null,
      "outputs": []
    },
    {
      "cell_type": "code",
      "execution_count": null,
      "metadata": {
        "colab": {
          "base_uri": "https://localhost:8080/"
        },
        "id": "7JHgWdem8fyC",
        "outputId": "6f9cdcd6-9498-40ef-96a1-a9b10f4152bf"
      },
      "outputs": [
        {
          "output_type": "stream",
          "name": "stdout",
          "text": [
            "Number of tags with more than 1000 occurrences: 51\n"
          ]
        }
      ],
      "source": [
        "# Creating a list of all tags\n",
        "all_tags = [tag for tags_list in df['Tags'] for tag in tags_list]\n",
        "\n",
        "# Creating a dictionary to count unique tags\n",
        "tag_counts = {}\n",
        "\n",
        "# Counting the occurrences of each tag\n",
        "for tag in all_tags:\n",
        "    if tag in tag_counts:\n",
        "        tag_counts[tag] += 1\n",
        "    else:\n",
        "        tag_counts[tag] = 1\n",
        "\n",
        "# Counting tags with more than 1000 occurrences\n",
        "tags_over_1000_count = sum(1 for count in tag_counts.values() if count > 500)\n",
        "\n",
        "# Printing the count of tags with more than 1000 occurrences\n",
        "print(\"Number of tags with more than 1000 occurrences:\", tags_over_1000_count)\n"
      ]
    },
    {
      "cell_type": "code",
      "source": [
        "keyword_to_genre = {\n",
        "    'Psychological Suspense': ['mind games', 'tension', 'unreliable narrator', 'paranoia', 'intrigue'],\n",
        "    'Time-Travel Adventure': ['temporal journey', 'altered history', 'paradox', 'anachronism', 'time machine'],\n",
        "    'War Epic': ['battlefield', 'heroism', 'conflict', 'sacrifice', 'triumph'],\n",
        "    'Magical Realism': ['surreal', 'enchantment', 'everyday magic', 'dreamlike', 'symbolism'],\n",
        "    'Romantic Comedy': ['love triangle', 'quirky romance', 'humor', 'misunderstandings', 'heartwarming'],\n",
        "    'Space Exploration': ['astronauts', 'interstellar travel', 'discovery', 'alien worlds', 'cosmic adventure'],\n",
        "    'Alternate History': ['what-if scenarios', 'historical divergence', 'altered events', 'counterfactual', 'butterfly effect'],\n",
        "    'Historical Thriller': ['intrigue', 'suspicion', 'espionage', 'conspiracies', 'plot twists'],\n",
        "    'Mythological Fantasy': ['gods and goddesses', 'legends', 'ancient prophecies', 'epic quests', 'mythical creatures'],\n",
        "    'Superhero Adventure': ['powers', 'secret identity', 'justice', 'supervillains', 'vigilante'],\n",
        "    'Cyberpunk Mystery': ['cyberpunk', 'high-tech', 'neon lights', 'techno-thriller', 'digital intrigue'],\n",
        "    'Dystopian Romance': ['dystopia', 'romantic tension', 'resistance', 'oppression', 'forbidden love'],\n",
        "    'Steampunk Adventure': ['steampunk', 'clockwork', 'airships', 'mechanical marvels', 'adventurous quests'],\n",
        "    'Alien Encounter': ['aliens', 'first contact', 'extraterrestrial beings', 'intergalactic diplomacy', 'unknown worlds'],\n",
        "    'Post-Apocalyptic Mystery': ['post-apocalyptic', 'mysterious ruins', 'survival', 'enigmatic artifacts', 'society collapse'],\n",
        "    'Political Intrigue': ['politics', 'power struggles', 'diplomacy', 'conspiracy', 'government manipulation'],\n",
        "    'Family Saga': ['family dynamics', 'generational saga', 'inheritance', 'interconnected lives', 'family secrets'],\n",
        "    'Environmental Fiction': ['environmental issues', 'ecological balance', 'nature', 'human impact', 'eco-consciousness'],\n",
        "    'Romantic Fantasy': ['romantic fantasy', 'enchanted worlds', 'magic', 'epic love story', 'mystical creatures'],\n",
        "    'Mythical Adventure': ['mythical quest', 'legendary artifacts', 'heroic journey', 'mythical creatures', 'ancient lore'],\n",
        "    'Spy Thriller': ['spies', 'covert operations', 'espionage', 'intelligence agencies', 'intrigue'],\n",
        "    'Medical Drama': ['medical professionals', 'hospital life', 'healthcare challenges', 'life-and-death decisions', 'emotional toll'],\n",
        "    'Legal Mystery': ['legal cases', 'courtroom drama', 'mystery-solving', 'legal procedures', 'crime and justice'],\n",
        "    'Conspiracy Thriller': ['conspiracies', 'secret plots', 'cover-ups', 'political intrigue', 'unveiling the truth'],\n",
        "    'Philosophical Fiction': ['philosophical ideas', 'existential dilemmas', 'ethical questions', 'introspection', 'deep contemplation'],\n",
        "    'Religious/Spiritual': ['faith', 'spirituality', 'religious journey', 'divine intervention', 'spiritual awakening'],\n",
        "    'Gothic Horror': ['gothic atmosphere', 'supernatural terror', 'haunted mansion', 'dark secrets', 'macabre'],\n",
        "    'Historical Adventure': ['historical setting', 'adventurous quest', 'exploration', 'historical events', 'cultural exploration'],\n",
        "    'Apocalyptic Fantasy': ['apocalyptic world', 'fantastical elements', 'heroes of destiny', 'struggle for survival', 'epic battles'],\n",
        "    'Psychological Drama': ['psychological turmoil', 'emotional conflict', 'inner demons', 'human psyche', 'character introspection'],\n",
        "    'Techno-Thriller': ['technology gone awry', 'high-tech danger', 'cyber threats', 'technological espionage', 'scientific suspense'],\n",
        "    'Urban Fantasy Mystery': ['urban fantasy', 'mysterious occurrences', 'supernatural investigation', 'magic in the modern world', 'cryptic puzzles'],\n",
        "    'Military Science Fiction': ['military operations', 'advanced weaponry', 'space warfare', 'battle strategies', 'intergalactic conflict'],\n",
        "    'Time-Travel Romance': ['time-travel romance', 'love across time', 'temporal obstacles', 'romantic fate', 'heartfelt connections'],\n",
        "    'Political Fantasy': ['political intrigue', 'fantasy world-building', 'power struggles', 'courtly machinations', 'royal politics'],\n",
        "    'Humorous Mystery': ['humorous detective', 'comedic investigation', 'quirky sleuth', 'laugh-out-loud whodunit', 'mystery with a twist of humor'],\n",
        "    'Sports Drama': ['sports competition', 'athletic challenges', 'personal growth', 'team dynamics', 'triumph over adversity'],\n",
        "    'Young Adult Fantasy': ['young adult adventure', 'magical coming of age', 'fantasy realms', 'heroic destiny', 'teenage struggles'],\n",
        "    'Robotic Adventure': ['robots', 'AI companions', 'mechanical allies', 'technological journey', 'human-robot interactions'],\n",
        "    'Horror': ['horror', 'supernatural', 'terror', 'fear', 'haunting'],\n",
        "    'Tragedy': ['tragedy', 'unfortunate events', 'heartbreaking', 'loss', 'suffering'],\n",
        "    'Science Fiction': ['science fiction', 'futuristic technology', 'space exploration', 'aliens', 'time travel'],\n",
        "    'Mystery': ['mystery', 'detective', 'whodunit', 'intrigue', 'puzzle'],\n",
        "    'Adventure': ['adventure', 'exploration', 'quest', 'journey', 'treasure'],\n",
        "    'Historical Fiction': ['historical fiction', 'period setting', 'historical events', 'authentic details', 'cultural norms'],\n",
        "    'Comedy': ['comedy', 'humor', 'wit', 'funny', 'laughter'],\n",
        "    'Drama': ['drama', 'emotional', 'conflict', 'character development', 'intense'],\n",
        "    'Action': ['action', 'fast-paced', 'exciting', 'thrilling', 'combat'],\n",
        "    'Fantasy': ['fantasy', 'magical', 'mythical creatures', 'epic quests', 'enchanted realms'],\n",
        "    'Crime': ['crime', 'criminal underworld', 'law enforcement', 'investigation', 'crime solving'],\n",
        "    'Romance': ['romance', 'love', 'heartfelt', 'passion', 'relationship', 'affection'],\n",
        "    'Thriller': ['thriller', 'suspense', 'tension', 'intense', 'danger']\n",
        "}\n"
      ],
      "metadata": {
        "id": "9EcsJjUyxtj2"
      },
      "execution_count": null,
      "outputs": []
    },
    {
      "cell_type": "code",
      "source": [
        "def update_tags(description, tags):\n",
        "    for genre, keywords in keyword_to_genre.items():\n",
        "        for keyword in keywords:\n",
        "            if keyword in description.lower():\n",
        "                tags.append(genre)\n",
        "    return tags\n"
      ],
      "metadata": {
        "id": "GZt4_1Q-zKfG"
      },
      "execution_count": null,
      "outputs": []
    },
    {
      "cell_type": "code",
      "source": [
        "df['Tags'] = df.apply(lambda row: update_tags(row['Description'], eval(row['Tags'])), axis=1)"
      ],
      "metadata": {
        "id": "nQNpwigVzNBO",
        "colab": {
          "base_uri": "https://localhost:8080/"
        },
        "outputId": "6ea52c2c-bb31-4dbc-ce70-c68f51c33434"
      },
      "execution_count": null,
      "outputs": [
        {
          "output_type": "stream",
          "name": "stderr",
          "text": [
            "<ipython-input-18-ad5bd4869704>:1: SettingWithCopyWarning: \n",
            "A value is trying to be set on a copy of a slice from a DataFrame.\n",
            "Try using .loc[row_indexer,col_indexer] = value instead\n",
            "\n",
            "See the caveats in the documentation: https://pandas.pydata.org/pandas-docs/stable/user_guide/indexing.html#returning-a-view-versus-a-copy\n",
            "  df['Tags'] = df.apply(lambda row: update_tags(row['Description'], eval(row['Tags'])), axis=1)\n"
          ]
        }
      ]
    },
    {
      "cell_type": "code",
      "execution_count": null,
      "metadata": {
        "colab": {
          "base_uri": "https://localhost:8080/"
        },
        "id": "o8a7EHbu9IIc",
        "outputId": "3a6f4acc-5d24-4de7-a6f1-d7c5414bbcfc"
      },
      "outputs": [
        {
          "output_type": "execute_result",
          "data": {
            "text/plain": [
              "Title          0\n",
              "Tags           0\n",
              "Description    0\n",
              "dtype: int64"
            ]
          },
          "metadata": {},
          "execution_count": 16
        }
      ],
      "source": [
        "df.isnull().sum()"
      ]
    },
    {
      "cell_type": "code",
      "execution_count": null,
      "metadata": {
        "id": "MqmO2crK9ak-"
      },
      "outputs": [],
      "source": [
        "df = df.dropna(subset=['Description', 'Title'])"
      ]
    },
    {
      "cell_type": "code",
      "execution_count": null,
      "metadata": {
        "id": "-nDtPbpV9yI7"
      },
      "outputs": [],
      "source": [
        "df.head()"
      ]
    },
    {
      "cell_type": "code",
      "execution_count": null,
      "metadata": {
        "colab": {
          "base_uri": "https://localhost:8080/"
        },
        "id": "OAP1QEi9H4Ut",
        "outputId": "8d441a65-68b7-4c96-90bd-8b3776909eef"
      },
      "outputs": [
        {
          "output_type": "execute_result",
          "data": {
            "text/plain": [
              "list"
            ]
          },
          "metadata": {},
          "execution_count": 20
        }
      ],
      "source": [
        "type((df['Tags'][0]))"
      ]
    },
    {
      "cell_type": "code",
      "execution_count": null,
      "metadata": {
        "colab": {
          "base_uri": "https://localhost:8080/"
        },
        "id": "-YwxHvKlTKsI",
        "outputId": "8b84b819-b8f1-4e39-8b34-501c8adca680"
      },
      "outputs": [
        {
          "output_type": "stream",
          "name": "stdout",
          "text": [
            "Number of Unique Tags: 103\n"
          ]
        }
      ],
      "source": [
        "# Create a list of tags from the 'Tags' column\n",
        "tag_list = df['Tags'].to_list()\n",
        "\n",
        "# Initialize a dictionary to count tag occurrences\n",
        "tag_count = {}\n",
        "\n",
        "# Iterate through each list of tags\n",
        "for tags in tag_list:\n",
        "    for tag in tags:\n",
        "        # Increment tag count if it exists in the dictionary, otherwise initialize it to 1\n",
        "        if tag in tag_count:\n",
        "            tag_count[tag] += 1\n",
        "        else:\n",
        "            tag_count[tag] = 1\n",
        "\n",
        "# Print the number of unique tags\n",
        "print(f\"Number of Unique Tags: {len(tag_count)}\")\n"
      ]
    },
    {
      "cell_type": "code",
      "execution_count": null,
      "metadata": {
        "colab": {
          "base_uri": "https://localhost:8080/"
        },
        "id": "pV-ARGmJ2MPU",
        "outputId": "2106c734-716b-4bb2-f0b5-00051205e256"
      },
      "outputs": [
        {
          "output_type": "execute_result",
          "data": {
            "text/plain": [
              "(22,\n",
              " ['Cyberpunk Mystery',\n",
              "  'Historical Adventure',\n",
              "  'Romantic Comedy',\n",
              "  'Apocalyptic Fantasy',\n",
              "  'Conspiracy Thriller'])"
            ]
          },
          "metadata": {},
          "execution_count": 30
        }
      ],
      "source": [
        "threshold = int(len(df) * 0.005)\n",
        "rare_genres = [key for key, value in tag_count.items() if value < threshold]\n",
        "len(rare_genres), rare_genres[:5]"
      ]
    },
    {
      "cell_type": "code",
      "execution_count": null,
      "metadata": {
        "colab": {
          "base_uri": "https://localhost:8080/"
        },
        "id": "BqeCQ2IE4zxc",
        "outputId": "713ddee6-0a64-4737-8de4-bd36182d6966"
      },
      "outputs": [
        {
          "output_type": "execute_result",
          "data": {
            "text/plain": [
              "(54117, 4)"
            ]
          },
          "metadata": {},
          "execution_count": 31
        }
      ],
      "source": [
        "df.shape"
      ]
    },
    {
      "cell_type": "code",
      "execution_count": null,
      "metadata": {
        "colab": {
          "base_uri": "https://localhost:8080/"
        },
        "id": "hnDULrrW6XU1",
        "outputId": "a2d8849b-8bfb-422c-cdcd-bd6de0ace3eb"
      },
      "outputs": [
        {
          "output_type": "stream",
          "name": "stdout",
          "text": [
            "(54117, 4)\n"
          ]
        }
      ],
      "source": [
        "# Drop rows with empty records and reset the index\n",
        "df = df.dropna(subset=['Title', 'Description', 'Tags'], how='any').reset_index(drop=True)\n",
        "\n",
        "# Display the shape of the modified DataFrame\n",
        "print(df.shape)\n"
      ]
    },
    {
      "cell_type": "code",
      "execution_count": null,
      "metadata": {
        "colab": {
          "base_uri": "https://localhost:8080/"
        },
        "id": "cRHZyn8T3alN",
        "outputId": "f3320947-fb94-46b7-cb91-bb7d56f88b8a"
      },
      "outputs": [
        {
          "output_type": "stream",
          "name": "stdout",
          "text": [
            "Shape of the Modified DataFrame: (53860, 4)\n"
          ]
        }
      ],
      "source": [
        "# Create a list of tags from the 'Tags' column\n",
        "tag_list = df['Tags'].to_list()\n",
        "\n",
        "# Initialize a list to store revised genres\n",
        "revised_genre_list = []\n",
        "\n",
        "# Initialize a list to store indices of rows to drop\n",
        "indices_to_drop = []\n",
        "\n",
        "# Iterate through each list of genres\n",
        "for idx, genres in enumerate(tag_list):\n",
        "    # Convert the string of genres to a list\n",
        "    genres_list = genres\n",
        "\n",
        "    # Initialize a list to store revised genres for the current row\n",
        "    revised_genres = []\n",
        "\n",
        "    # Iterate through each genre in the list\n",
        "    for genre in genres_list:\n",
        "        if genre not in rare_genres:\n",
        "            revised_genres.append(genre)\n",
        "\n",
        "    # Check if the row has valid genres after revision\n",
        "    if len(revised_genres) == 0:\n",
        "        indices_to_drop.append(idx)\n",
        "    else:\n",
        "        revised_genre_list.append(revised_genres)\n",
        "\n",
        "# Drop rows with no valid genres and reset the index\n",
        "df = df.drop(indices_to_drop).reset_index(drop=True)\n",
        "\n",
        "# Display the shape of the modified DataFrame\n",
        "print(\"Shape of the Modified DataFrame:\", df.shape)\n"
      ]
    },
    {
      "cell_type": "code",
      "source": [
        "df"
      ],
      "metadata": {
        "id": "lWiWm0fj3gGB"
      },
      "execution_count": null,
      "outputs": []
    },
    {
      "cell_type": "code",
      "execution_count": null,
      "metadata": {
        "id": "yeuvRDgm5rDW"
      },
      "outputs": [],
      "source": [
        "df[\"Genres\"] = revised_genre_list"
      ]
    },
    {
      "cell_type": "code",
      "execution_count": null,
      "metadata": {
        "id": "3f5YVtrM5yk5"
      },
      "outputs": [],
      "source": [
        "df.head()"
      ]
    },
    {
      "cell_type": "code",
      "execution_count": null,
      "metadata": {
        "colab": {
          "base_uri": "https://localhost:8080/"
        },
        "id": "Fl5iQrb6-ob2",
        "outputId": "a9f937b2-1716-4848-d8e4-788452e295da"
      },
      "outputs": [
        {
          "output_type": "stream",
          "name": "stdout",
          "text": [
            "Number of Unique Genres: 81\n",
            "{'Time Loop': 473, 'Adventure': 46520, 'Fantasy': 44534, 'Mystery': 6415, 'Magic': 25267, 'Romantic Fantasy': 7331, 'Science Fiction': 561, 'Comedy': 39675, 'Action': 36000, 'Thriller': 2919, 'LitRPG': 10867, 'Progression': 8503, 'Super Heroes': 1927, 'Male Lead': 25039, 'Sci-fi': 9639, 'Low Fantasy': 5226, 'School Life': 5322, 'Slice of Life': 7501, 'War Epic': 1653, 'Superhero Adventure': 3134, 'Anti-Hero Lead': 9888, 'Genetically Engineered': 1483, 'Strong Lead': 13336, 'Time Travel': 1343, 'Villainous Lead': 2360, 'Non-Human Lead': 7898, 'Secret Identity': 5198, 'Artificial Intelligence': 1990, 'Technologically Engineered': 1495, 'Urban Fantasy': 4421, 'Female Lead': 11442, 'Drama': 10228, 'Mythos': 4194, 'Soft Sci-fi': 3160, 'Supernatural': 14981, 'Alien Encounter': 380, 'Horror': 7734, 'Reincarnation': 8918, 'Cyberpunk': 1615, 'Dystopia': 1952, 'Strategy': 6717, 'GameLit': 5087, 'Portal Fantasy / Isekai': 8594, 'Xianxia': 2507, 'Romance': 16885, 'Martial Arts': 8817, 'High Fantasy': 14079, 'Multiple Lead Characters': 10218, 'Historical': 1744, 'Satire': 1129, 'War and Military': 4674, 'Psychological': 6663, 'Ruling Class': 3223, 'First Contact': 1313, 'Virtual Reality': 3271, 'Grimdark': 4918, 'Attractive Lead': 2817, 'Post Apocalyptic': 3075, 'Post-Apocalyptic Mystery': 970, 'Contemporary': 2694, 'Wuxia': 1483, 'Psychological Suspense': 494, 'Historical Thriller': 439, 'Spy Thriller': 340, 'Dungeon': 4076, 'Gender Bender': 1854, 'Space Opera': 1151, 'Tragedy': 7037, 'Crime': 722, 'Steampunk': 704, 'Space Exploration': 485, 'Hard Sci-fi': 780, 'Dystopian Romance': 302, 'Harem': 4511, 'Reader Interactive': 1322, 'Sports': 467, 'Short Story': 4333, 'Mythological Fantasy': 645, 'Political Intrigue': 551, 'Environmental Fiction': 817, 'Religious/Spiritual': 357}\n"
          ]
        }
      ],
      "source": [
        "# Create a list of genres from the 'Genres' column\n",
        "genre_list = df['Genres'].to_list()\n",
        "\n",
        "# Initialize a dictionary to count genre occurrences\n",
        "revised_genre_count = {}\n",
        "\n",
        "# Iterate through each list of genres\n",
        "for genres in genre_list:\n",
        "    genres_list = genres\n",
        "    for genre in genres_list:\n",
        "        if genre in revised_genre_count.keys():\n",
        "            revised_genre_count[genre] += 1\n",
        "        else:\n",
        "            revised_genre_count[genre] = 1\n",
        "\n",
        "# Print the number of unique genres\n",
        "print(f\"Number of Unique Genres: {len(revised_genre_count)}\")\n",
        "\n",
        "# Display the revised genre count dictionary\n",
        "print(revised_genre_count)"
      ]
    },
    {
      "cell_type": "code",
      "execution_count": null,
      "metadata": {
        "id": "5qo26Sv3AHB2"
      },
      "outputs": [],
      "source": [
        "encode_genre_types = { key: idx for idx, (key, value) in enumerate(revised_genre_count.items())}\n",
        "with open(\"genre_types_encoded.json\", \"w\") as fp:\n",
        "  json.dump(encode_genre_types, fp)"
      ]
    },
    {
      "cell_type": "code",
      "execution_count": null,
      "metadata": {
        "colab": {
          "base_uri": "https://localhost:8080/"
        },
        "id": "qWpi7aNFDsI-",
        "outputId": "2e07fb66-eaa8-4dc6-bf4d-258e630de19a"
      },
      "outputs": [
        {
          "output_type": "execute_result",
          "data": {
            "text/plain": [
              "[0, 0, 0, 0, 0, 0, 0, 0, 1, 0, 0, 0, 1, 0, 1, 0, 0, 0, 0, 1, 0, 0, 0]"
            ]
          },
          "metadata": {},
          "execution_count": 38
        }
      ],
      "source": [
        "# We need this because for multilabel classification all genres have possibility to be present in the predictions\n",
        "categorical_genre_list = []\n",
        "revised_genres_list = df['Genres'].to_list()\n",
        "\n",
        "for revised_genres in revised_genres_list:\n",
        "  categorical_list = [0] * len(encode_genre_types)\n",
        "  for genre in revised_genres:\n",
        "    genre_type_index = encode_genre_types[genre]\n",
        "    categorical_list[genre_type_index] = 1\n",
        "  categorical_genre_list.append(categorical_list)\n",
        "\n",
        "categorical_genre_list[3][:23]"
      ]
    },
    {
      "cell_type": "code",
      "execution_count": null,
      "metadata": {
        "id": "y4ukV3MqD3dl"
      },
      "outputs": [],
      "source": [
        "df['genre_cat_list'] = categorical_genre_list"
      ]
    },
    {
      "cell_type": "markdown",
      "metadata": {
        "id": "qtdWXsO5EA11"
      },
      "source": [
        "Dataloaders and Models"
      ]
    },
    {
      "cell_type": "code",
      "execution_count": null,
      "metadata": {
        "id": "YLJ3OU6XEAVs"
      },
      "outputs": [],
      "source": [
        "labels = list(encode_genre_types.keys())"
      ]
    },
    {
      "cell_type": "code",
      "execution_count": null,
      "metadata": {
        "id": "EIVadfIhEGCg"
      },
      "outputs": [],
      "source": [
        "model_name = \"distilbert-base-uncased\"\n",
        "model_cls = AutoModelForSequenceClassification\n",
        "config = AutoConfig.from_pretrained(model_name)\n",
        "config.num_labels = len(labels)\n",
        "\n",
        "hf_arch, hf_config, hf_tokenizer, hf_model = get_hf_objects(model_name, model_cls=model_cls, config=config)\n",
        "hf_model.config.problem_type = \"multi_label_classification\""
      ]
    },
    {
      "cell_type": "code",
      "source": [
        "!pip install ohmeow-blurr"
      ],
      "metadata": {
        "id": "eEVGrreoBSQU"
      },
      "execution_count": null,
      "outputs": []
    },
    {
      "cell_type": "code",
      "source": [
        "model_name = \"roberta-base\"\n",
        "model_cls = AutoModelForSequenceClassification\n",
        "config = AutoConfig.from_pretrained(model_name)\n",
        "config.num_labels = len(labels)\n",
        "\n",
        "hf_arch, hf_config, hf_tokenizer, hf_model = get_hf_objects(model_name, model_cls=model_cls, config=config)\n",
        "hf_model.config.problem_type = \"multi_label_classification\"\n"
      ],
      "metadata": {
        "id": "yG6zhNDvA_0d"
      },
      "execution_count": null,
      "outputs": []
    },
    {
      "cell_type": "code",
      "execution_count": null,
      "metadata": {
        "id": "HSSJCYAkQnjo",
        "colab": {
          "base_uri": "https://localhost:8080/",
          "height": 177,
          "referenced_widgets": [
            "ab28b106570446d892b38019c590d346",
            "66718e94741b434a8eef3fff5f4f65b3",
            "5a6f71e1965943c78e41d6a6813b3b01",
            "6bc70ca8604549c8af643e48dafe49cd",
            "53b0f76db2f54b039a0d9fdcb3c63ec8",
            "cab9ab59781b4eb4824be9a4561cb9c6",
            "700c04a163b342d7b6c9b1ad51fc90a9",
            "d47f0f61e0574af7898f35ca83b09ca3",
            "389831c00dca4945b48bb1561a670705",
            "1a270b4a4aae4a56b3b8d9d5d229bb81",
            "317af88bb7b04ba482813576c75bb101",
            "cc5d78c85ccb4278a23c39770a627cf7",
            "24d1907aead04894a71d9a38e6be1a01",
            "513a1004e8d14ea1aa9e9aedc2e55a8e",
            "b705ecc084074c9cb3a8cccbaf640477",
            "f0d53a806f9c4cefa28372e45a7d25db",
            "3200655d3fb443c39f639a5b296029b3",
            "c89c5a4e96914126ba1cf68f2c060c32",
            "1ad1b823e5b64aee8dc9055b2d6da835",
            "2f6bab6fb9f54833bb25a4821810572a",
            "2cea4fb4f48e49eaa8609001318d3552",
            "47183174acac4991bdcfe70d47b44507",
            "4343dc22ecd6404dbfa77001744f364e",
            "797efd8a99604d75b64423e07599076d",
            "71fdf1ba6a964096a95124cc3d1e440a",
            "1f8584c01a5349ffbe15aec95abfbdd1",
            "3b2ffa1cac5447b994890d43cbabf215",
            "3795528525fc457b99296e7d31feaa4e",
            "3ca4be3d5e5049888b2d2f61e73a8d42",
            "e7ccb7cdf7144020a0f2f450db807796",
            "d7c764df67e44475accbd70ddc045df9",
            "ed9f98e7a7634484b7f499169673065f",
            "2de85e059bc6479dabe67524372a4968",
            "8c09d790185442e2844d1c011121b053",
            "6e57d8f61ac34f52bae4fb51238f1720",
            "f766943be396442abf64941fc1ca9d41",
            "225e7e570f5241258bba13258d5e0e60",
            "23881e29cf0d4b559c80b1b51676717b",
            "9acf019699af4b0187042b9991cc896c",
            "adc4b034d95f4711984691138a0973d7",
            "0f5246e166f141cbb8de0985b211e937",
            "67606424bd634d20a43ad9152b08db9a",
            "873c3b7612b046ccb92ad4a61f596901",
            "2a3eb5fdb190400e91d980e4cf014b62",
            "38e82c2742684988a32d90208bf2d8cd",
            "cd1063c1eed545b59aa20454644e17bb",
            "71252d51ea724c80a1349e2d64336573",
            "ca95e5f1cc1243419aea2cde994412c8",
            "90eb57e0ff22491f9da0aed3b45e79ce",
            "dfc064a11c68409aa881df24aabc86c6",
            "35469ad27cd54821995783d044c0e2e0",
            "c06d556e5f884455ab4946c3d59632c0",
            "9f1fc06df15a4690a95f3e37ad679d5c",
            "ddc454e0f52348c481cbb9410161b0fd",
            "dd6ecf0245ca4bf6b61d702f19b158d6"
          ]
        },
        "outputId": "db1d9276-4f69-4c3b-e3bc-888753d92e38"
      },
      "outputs": [
        {
          "output_type": "display_data",
          "data": {
            "text/plain": [
              "Downloading (…)lve/main/config.json:   0%|          | 0.00/570 [00:00<?, ?B/s]"
            ],
            "application/vnd.jupyter.widget-view+json": {
              "version_major": 2,
              "version_minor": 0,
              "model_id": "ab28b106570446d892b38019c590d346"
            }
          },
          "metadata": {}
        },
        {
          "output_type": "display_data",
          "data": {
            "text/plain": [
              "Downloading (…)okenizer_config.json:   0%|          | 0.00/28.0 [00:00<?, ?B/s]"
            ],
            "application/vnd.jupyter.widget-view+json": {
              "version_major": 2,
              "version_minor": 0,
              "model_id": "cc5d78c85ccb4278a23c39770a627cf7"
            }
          },
          "metadata": {}
        },
        {
          "output_type": "display_data",
          "data": {
            "text/plain": [
              "Downloading (…)solve/main/vocab.txt:   0%|          | 0.00/232k [00:00<?, ?B/s]"
            ],
            "application/vnd.jupyter.widget-view+json": {
              "version_major": 2,
              "version_minor": 0,
              "model_id": "4343dc22ecd6404dbfa77001744f364e"
            }
          },
          "metadata": {}
        },
        {
          "output_type": "display_data",
          "data": {
            "text/plain": [
              "Downloading (…)/main/tokenizer.json:   0%|          | 0.00/466k [00:00<?, ?B/s]"
            ],
            "application/vnd.jupyter.widget-view+json": {
              "version_major": 2,
              "version_minor": 0,
              "model_id": "8c09d790185442e2844d1c011121b053"
            }
          },
          "metadata": {}
        },
        {
          "output_type": "display_data",
          "data": {
            "text/plain": [
              "Downloading model.safetensors:   0%|          | 0.00/440M [00:00<?, ?B/s]"
            ],
            "application/vnd.jupyter.widget-view+json": {
              "version_major": 2,
              "version_minor": 0,
              "model_id": "38e82c2742684988a32d90208bf2d8cd"
            }
          },
          "metadata": {}
        }
      ],
      "source": [
        "model_name = \"bert-base-uncased\"\n",
        "model_cls = AutoModelForSequenceClassification\n",
        "config = AutoConfig.from_pretrained(model_name)\n",
        "config.num_labels = len(labels)\n",
        "\n",
        "hf_arch, hf_config, hf_tokenizer, hf_model = get_hf_objects(model_name, model_cls=model_cls, config=config)\n",
        "hf_model.config.problem_type = \"multi_label_classification\""
      ]
    },
    {
      "cell_type": "code",
      "execution_count": null,
      "metadata": {
        "id": "senAZibCEZHf"
      },
      "outputs": [],
      "source": [
        "df.head()"
      ]
    },
    {
      "cell_type": "code",
      "execution_count": null,
      "metadata": {
        "id": "ehPTm1q4EfHV"
      },
      "outputs": [],
      "source": [
        "blocks = (TextBlock(hf_arch, hf_config, hf_tokenizer, hf_model), MultiCategoryBlock(encoded=True, vocab=labels))\n",
        "dblock = DataBlock(blocks=blocks, get_x=ColReader('Description'), get_y=ColReader('genre_cat_list'), splitter=RandomSplitter(valid_pct=0.1, seed=42))"
      ]
    },
    {
      "cell_type": "code",
      "source": [
        "blocks = (\n",
        "    TextBlock.from_df('Description', tok_text_col='Description', vocab=hf_tokenizer.get_vocab(), seq_len=512),\n",
        "    MultiCategoryBlock(encoded=True, vocab=labels)\n",
        ")\n",
        "dblock = DataBlock(blocks=blocks, get_x=ColReader('Description'), get_y=ColReader('genre_cat_list'), splitter=RandomSplitter(valid_pct=0.1, seed=42))"
      ],
      "metadata": {
        "id": "RA4cz0kTCL0F"
      },
      "execution_count": null,
      "outputs": []
    },
    {
      "cell_type": "code",
      "execution_count": null,
      "metadata": {
        "id": "_NRPJvo_EpWL"
      },
      "outputs": [],
      "source": [
        "dls = dblock.dataloaders(df, bs=16)"
      ]
    },
    {
      "cell_type": "code",
      "execution_count": null,
      "metadata": {
        "colab": {
          "base_uri": "https://localhost:8080/"
        },
        "id": "okq7UWUGEuir",
        "outputId": "3a4a4eb0-df15-43bb-bfa3-a5ee6313332c"
      },
      "outputs": [
        {
          "output_type": "execute_result",
          "data": {
            "text/plain": [
              "['Time Loop', 'Adventure', 'Fantasy', 'Mystery', 'Magic', 'Romantic Fantasy', 'Science Fiction', 'Comedy', 'Action', 'Thriller', 'LitRPG', 'Progression', 'Super Heroes', 'Male Lead', 'Sci-fi', 'Low Fantasy', 'School Life', 'Slice of Life', 'War Epic', 'Superhero Adventure', 'Anti-Hero Lead', 'Genetically Engineered', 'Strong Lead', 'Time Travel', 'Villainous Lead', 'Non-Human Lead', 'Secret Identity', 'Artificial Intelligence', 'Technologically Engineered', 'Urban Fantasy', 'Female Lead', 'Drama', 'Mythos', 'Soft Sci-fi', 'Supernatural', 'Alien Encounter', 'Horror', 'Reincarnation', 'Cyberpunk', 'Dystopia', 'Strategy', 'GameLit', 'Portal Fantasy / Isekai', 'Xianxia', 'Romance', 'Martial Arts', 'High Fantasy', 'Multiple Lead Characters', 'Historical', 'Satire', 'War and Military', 'Psychological', 'Ruling Class', 'First Contact', 'Virtual Reality', 'Grimdark', 'Attractive Lead', 'Post Apocalyptic', 'Post-Apocalyptic Mystery', 'Contemporary', 'Wuxia', 'Psychological Suspense', 'Historical Thriller', 'Spy Thriller', 'Dungeon', 'Gender Bender', 'Space Opera', 'Tragedy', 'Crime', 'Steampunk', 'Space Exploration', 'Hard Sci-fi', 'Dystopian Romance', 'Harem', 'Reader Interactive', 'Sports', 'Short Story', 'Mythological Fantasy', 'Political Intrigue', 'Environmental Fiction', 'Religious/Spiritual']"
            ]
          },
          "metadata": {},
          "execution_count": 44
        }
      ],
      "source": [
        "dls.vocab"
      ]
    },
    {
      "cell_type": "code",
      "execution_count": null,
      "metadata": {
        "id": "2a8tJXPGEzsz",
        "colab": {
          "base_uri": "https://localhost:8080/",
          "height": 452
        },
        "outputId": "894d142e-5143-438b-91f3-787fc72290a8"
      },
      "outputs": [
        {
          "output_type": "display_data",
          "data": {
            "text/plain": [
              "<IPython.core.display.HTML object>"
            ],
            "text/html": [
              "<table border=\"1\" class=\"dataframe\">\n",
              "  <thead>\n",
              "    <tr style=\"text-align: right;\">\n",
              "      <th></th>\n",
              "      <th>text</th>\n",
              "      <th>target</th>\n",
              "    </tr>\n",
              "  </thead>\n",
              "  <tbody>\n",
              "    <tr>\n",
              "      <th>0</th>\n",
              "      <td>siang fasa completely made up name on the spot has always felt as though nothing truly existed when he was young he didnt really think at all he just enjoyed life as a silly little child he only started thinking about things when his family moved to a different city he tried making freinds with the other kids at school but something was weird about them they were always talking to each other always playing around with others always making others into jokes as they try to look cool or impress their girl with</td>\n",
              "      <td>[Adventure, Fantasy, Comedy, Action, Supernatural, Romance, Martial Arts, Psychological, Tragedy, Reader Interactive]</td>\n",
              "    </tr>\n",
              "    <tr>\n",
              "      <th>1</th>\n",
              "      <td>frith is lost in the reincarnation process of souls lost in purgatory found and given the chance that is only given to those chosen few of gods a new start a new body a new existence of pure infinite possibility where any can become the strong the fragments of his broken mind tell him little of who he was before but the goddess that came and restores his mind ended his eternal torment of the endless void a hopeless existence and a soul destroyed by silence and nothingness is given hope and wonders his exist</td>\n",
              "      <td>[Adventure, Fantasy, Magic, Comedy, Action, LitRPG, Progression, Male Lead, Anti-Hero Lead, Non-Human Lead, Reincarnation, Strategy, Martial Arts, Multiple Lead Characters, War and Military, Psychological Suspense]</td>\n",
              "    </tr>\n",
              "    <tr>\n",
              "      <th>2</th>\n",
              "      <td>a new breed of humans have started to awaken to their evolution experiencing a trigger that hastened them to advance sooner than most normal humans they are called accelerators individuals who went through a physical or mental metamorphosis that separated them from the ordinary they harbor special skills and unique abilities to use at will their numbers have slowly increased over the years those who were discovered were registered in the government and had their lives changed in the consequence those who fe</td>\n",
              "      <td>[Fantasy, Comedy, Action, Sci-fi, School Life, Supernatural, Horror]</td>\n",
              "    </tr>\n",
              "    <tr>\n",
              "      <th>3</th>\n",
              "      <td>this is a work of fantasy as such it is also uncomplete all rights reserved to the author and the authour may change this work to suite their intrests note do not take this synopsis seriously this work is unfinished and a true synopsis will be written if and when the authour deems that this work is complete look around now child see those statues over younder i said to my son pointing at those frightened forms aye papa my son said with wonder in his eyes papa why do they look so scared was the sculpter tryi</td>\n",
              "      <td>[Adventure, Fantasy, Magic, Comedy, Action, Low Fantasy, Drama, Mythos, Horror, High Fantasy, Multiple Lead Characters, War and Military, Grimdark, Post-Apocalyptic Mystery, Environmental Fiction]</td>\n",
              "    </tr>\n",
              "  </tbody>\n",
              "</table>"
            ]
          },
          "metadata": {}
        }
      ],
      "source": [
        "dls.show_batch(dataloaders=dls, max_n=4, trunc_at=512)"
      ]
    },
    {
      "cell_type": "code",
      "execution_count": null,
      "metadata": {
        "id": "QimnTiRaE4iE"
      },
      "outputs": [],
      "source": [
        "model = BaseModelWrapper(hf_model)\n",
        "\n",
        "acc_02 = partial(accuracy_multi, thresh=0.2)\n",
        "\n",
        "learner = Learner(dls,\n",
        "                  model,\n",
        "                  opt_func=partial(OptimWrapper, opt=torch.optim.AdamW),\n",
        "                  loss_func=BCEWithLogitsLossFlat(),\n",
        "                  metrics=[acc_02],\n",
        "                  cbs=[BaseModelCallback],\n",
        "                  splitter=blurr_splitter\n",
        "                  ).to_fp16()"
      ]
    },
    {
      "cell_type": "code",
      "source": [
        "# Create a model wrapper for the HF model\n",
        "model = BaseModelWrapper(hf_model)\n",
        "\n",
        "# Define a partial function for multi-label accuracy with threshold of 0.2\n",
        "acc_02 = partial(accuracy_multi, thresh=0.2)\n",
        "\n",
        "# Create a Learner instance with the specified settings\n",
        "learner = Learner(\n",
        "    dls,                           # DataLoaders\n",
        "    model,                         # Model wrapper\n",
        "    opt_func=partial(OptimWrapper, opt=torch.optim.AdamW),  # Optimizer wrapper\n",
        "    loss_func=BCEWithLogitsLossFlat(),                      # Loss function\n",
        "    metrics=[acc_02],              # Evaluation metric\n",
        "    cbs=[BaseModelCallback],       # Callbacks (if any)\n",
        "    splitter=blurr_splitter        # Splitter function (if needed)\n",
        ").to_fp16()                       # Use mixed-precision training if available\n"
      ],
      "metadata": {
        "id": "PtbniGD1EV-M"
      },
      "execution_count": null,
      "outputs": []
    },
    {
      "cell_type": "markdown",
      "metadata": {
        "id": "YqCFjskxFCj6"
      },
      "source": [
        "Stage 0"
      ]
    },
    {
      "cell_type": "code",
      "execution_count": null,
      "metadata": {
        "id": "-cXVjWflFEO7"
      },
      "outputs": [],
      "source": [
        "learner.freeze()"
      ]
    },
    {
      "cell_type": "code",
      "execution_count": null,
      "metadata": {
        "colab": {
          "base_uri": "https://localhost:8080/",
          "height": 471
        },
        "id": "ZWYxq-sPFI4q",
        "outputId": "b2a84e8b-df38-4246-97a7-04a1187db7ac"
      },
      "outputs": [
        {
          "output_type": "display_data",
          "data": {
            "text/plain": [
              "<IPython.core.display.HTML object>"
            ],
            "text/html": [
              "\n",
              "<style>\n",
              "    /* Turns off some styling */\n",
              "    progress {\n",
              "        /* gets rid of default border in Firefox and Opera. */\n",
              "        border: none;\n",
              "        /* Needs to be in here for Safari polyfill so background images work as expected. */\n",
              "        background-size: auto;\n",
              "    }\n",
              "    progress:not([value]), progress:not([value])::-webkit-progress-bar {\n",
              "        background: repeating-linear-gradient(45deg, #7e7e7e, #7e7e7e 10px, #5c5c5c 10px, #5c5c5c 20px);\n",
              "    }\n",
              "    .progress-bar-interrupted, .progress-bar-interrupted::-webkit-progress-bar {\n",
              "        background: #F44336;\n",
              "    }\n",
              "</style>\n"
            ]
          },
          "metadata": {}
        },
        {
          "output_type": "display_data",
          "data": {
            "text/plain": [
              "<IPython.core.display.HTML object>"
            ],
            "text/html": []
          },
          "metadata": {}
        },
        {
          "output_type": "execute_result",
          "data": {
            "text/plain": [
              "SuggestedLRs(slide=0.00363078061491251, valley=0.0003981071640737355)"
            ]
          },
          "metadata": {},
          "execution_count": 48
        },
        {
          "output_type": "display_data",
          "data": {
            "text/plain": [
              "<Figure size 640x480 with 1 Axes>"
            ],
            "image/png": "[encoded data removed]"
          },
          "metadata": {}
        }
      ],
      "source": [
        "learner.lr_find(suggest_funcs=[slide, valley])"
      ]
    },
    {
      "cell_type": "code",
      "execution_count": null,
      "metadata": {
        "colab": {
          "base_uri": "https://localhost:8080/"
        },
        "id": "3CTcK2hbHGgR",
        "outputId": "c76c5ae6-d7af-439f-eb59-4fc3b8844842"
      },
      "outputs": [
        {
          "output_type": "execute_result",
          "data": {
            "text/plain": [
              "slice(0.0003981071640737355, 0.0036307806149125104, None)"
            ]
          },
          "metadata": {},
          "execution_count": 49
        }
      ],
      "source": [
        "import math\n",
        "\n",
        "slide = 0.00363078061491251\n",
        "valley = 0.0003981071640737355\n",
        "\n",
        "log_slide = math.log10(slide)\n",
        "log_valley = math.log10(valley)\n",
        "\n",
        "lr_max = slice(10**(log_valley), 10**(log_slide))\n",
        "\n",
        "lr_max"
      ]
    },
    {
      "cell_type": "code",
      "execution_count": null,
      "metadata": {
        "colab": {
          "base_uri": "https://localhost:8080/",
          "height": 112
        },
        "id": "Woi9bmikHpxs",
        "outputId": "7f1fdb32-c1f3-42da-c139-db1d18c2ef7c"
      },
      "outputs": [
        {
          "output_type": "display_data",
          "data": {
            "text/plain": [
              "<IPython.core.display.HTML object>"
            ],
            "text/html": [
              "\n",
              "<style>\n",
              "    /* Turns off some styling */\n",
              "    progress {\n",
              "        /* gets rid of default border in Firefox and Opera. */\n",
              "        border: none;\n",
              "        /* Needs to be in here for Safari polyfill so background images work as expected. */\n",
              "        background-size: auto;\n",
              "    }\n",
              "    progress:not([value]), progress:not([value])::-webkit-progress-bar {\n",
              "        background: repeating-linear-gradient(45deg, #7e7e7e, #7e7e7e 10px, #5c5c5c 10px, #5c5c5c 20px);\n",
              "    }\n",
              "    .progress-bar-interrupted, .progress-bar-interrupted::-webkit-progress-bar {\n",
              "        background: #F44336;\n",
              "    }\n",
              "</style>\n"
            ]
          },
          "metadata": {}
        },
        {
          "output_type": "display_data",
          "data": {
            "text/plain": [
              "<IPython.core.display.HTML object>"
            ],
            "text/html": [
              "<table border=\"1\" class=\"dataframe\">\n",
              "  <thead>\n",
              "    <tr style=\"text-align: left;\">\n",
              "      <th>epoch</th>\n",
              "      <th>train_loss</th>\n",
              "      <th>valid_loss</th>\n",
              "      <th>accuracy_multi</th>\n",
              "      <th>time</th>\n",
              "    </tr>\n",
              "  </thead>\n",
              "  <tbody>\n",
              "    <tr>\n",
              "      <td>0</td>\n",
              "      <td>0.242335</td>\n",
              "      <td>0.237556</td>\n",
              "      <td>0.864677</td>\n",
              "      <td>05:24</td>\n",
              "    </tr>\n",
              "    <tr>\n",
              "      <td>1</td>\n",
              "      <td>0.232891</td>\n",
              "      <td>0.229386</td>\n",
              "      <td>0.868801</td>\n",
              "      <td>05:29</td>\n",
              "    </tr>\n",
              "  </tbody>\n",
              "</table>"
            ]
          },
          "metadata": {}
        }
      ],
      "source": [
        "learner.fit_one_cycle(2, lr_max = lr_max)"
      ]
    },
    {
      "cell_type": "markdown",
      "metadata": {
        "id": "KidA1BTrIPjZ"
      },
      "source": [
        "Stage 1"
      ]
    },
    {
      "cell_type": "code",
      "execution_count": null,
      "metadata": {
        "id": "_-f1ecabIQ2z"
      },
      "outputs": [],
      "source": [
        "learner.unfreeze()"
      ]
    },
    {
      "cell_type": "code",
      "execution_count": null,
      "metadata": {
        "colab": {
          "base_uri": "https://localhost:8080/",
          "height": 471
        },
        "id": "XIDc1i8sITJn",
        "outputId": "3c59bb62-19c6-4753-c2ab-010315f70676"
      },
      "outputs": [
        {
          "output_type": "display_data",
          "data": {
            "text/plain": [
              "<IPython.core.display.HTML object>"
            ],
            "text/html": [
              "\n",
              "<style>\n",
              "    /* Turns off some styling */\n",
              "    progress {\n",
              "        /* gets rid of default border in Firefox and Opera. */\n",
              "        border: none;\n",
              "        /* Needs to be in here for Safari polyfill so background images work as expected. */\n",
              "        background-size: auto;\n",
              "    }\n",
              "    progress:not([value]), progress:not([value])::-webkit-progress-bar {\n",
              "        background: repeating-linear-gradient(45deg, #7e7e7e, #7e7e7e 10px, #5c5c5c 10px, #5c5c5c 20px);\n",
              "    }\n",
              "    .progress-bar-interrupted, .progress-bar-interrupted::-webkit-progress-bar {\n",
              "        background: #F44336;\n",
              "    }\n",
              "</style>\n"
            ]
          },
          "metadata": {}
        },
        {
          "output_type": "display_data",
          "data": {
            "text/plain": [
              "<IPython.core.display.HTML object>"
            ],
            "text/html": []
          },
          "metadata": {}
        },
        {
          "output_type": "execute_result",
          "data": {
            "text/plain": [
              "SuggestedLRs(slide=0.004365158267319202, valley=2.75422871709452e-06)"
            ]
          },
          "metadata": {},
          "execution_count": 52
        },
        {
          "output_type": "display_data",
          "data": {
            "text/plain": [
              "<Figure size 640x480 with 1 Axes>"
            ],
            "image/png": "[encoded data removed]"
          },
          "metadata": {}
        }
      ],
      "source": [
        "from fastai.callback.schedule import slide, valley\n",
        "\n",
        "learner.lr_find(suggest_funcs=[slide, valley])"
      ]
    },
    {
      "cell_type": "code",
      "execution_count": null,
      "metadata": {
        "colab": {
          "base_uri": "https://localhost:8080/"
        },
        "id": "FzrW8unoIcUb",
        "outputId": "3f291725-dad2-4f92-9ddd-f809be008eb7"
      },
      "outputs": [
        {
          "output_type": "execute_result",
          "data": {
            "text/plain": [
              "slice(2.7542287170945176e-06, 0.004365158267319202, None)"
            ]
          },
          "metadata": {},
          "execution_count": 53
        }
      ],
      "source": [
        "slide = 0.004365158267319202\n",
        "valley = 2.75422871709452e-06\n",
        "\n",
        "log_slide = math.log10(slide)\n",
        "log_valley = math.log10(valley)\n",
        "\n",
        "lr_max = slice(10**(log_valley), 10**(log_slide))\n",
        "\n",
        "lr_max"
      ]
    },
    {
      "cell_type": "code",
      "execution_count": null,
      "metadata": {
        "colab": {
          "base_uri": "https://localhost:8080/",
          "height": 206
        },
        "id": "x0ooI2VkIX5E",
        "outputId": "4ae4590c-174f-4138-e3bc-7e212e1994a5"
      },
      "outputs": [
        {
          "output_type": "display_data",
          "data": {
            "text/plain": [
              "<IPython.core.display.HTML object>"
            ],
            "text/html": [
              "\n",
              "<style>\n",
              "    /* Turns off some styling */\n",
              "    progress {\n",
              "        /* gets rid of default border in Firefox and Opera. */\n",
              "        border: none;\n",
              "        /* Needs to be in here for Safari polyfill so background images work as expected. */\n",
              "        background-size: auto;\n",
              "    }\n",
              "    progress:not([value]), progress:not([value])::-webkit-progress-bar {\n",
              "        background: repeating-linear-gradient(45deg, #7e7e7e, #7e7e7e 10px, #5c5c5c 10px, #5c5c5c 20px);\n",
              "    }\n",
              "    .progress-bar-interrupted, .progress-bar-interrupted::-webkit-progress-bar {\n",
              "        background: #F44336;\n",
              "    }\n",
              "</style>\n"
            ]
          },
          "metadata": {}
        },
        {
          "output_type": "display_data",
          "data": {
            "text/plain": [
              "<IPython.core.display.HTML object>"
            ],
            "text/html": [
              "<table border=\"1\" class=\"dataframe\">\n",
              "  <thead>\n",
              "    <tr style=\"text-align: left;\">\n",
              "      <th>epoch</th>\n",
              "      <th>train_loss</th>\n",
              "      <th>valid_loss</th>\n",
              "      <th>accuracy_multi</th>\n",
              "      <th>time</th>\n",
              "    </tr>\n",
              "  </thead>\n",
              "  <tbody>\n",
              "    <tr>\n",
              "      <td>0</td>\n",
              "      <td>0.227992</td>\n",
              "      <td>0.221843</td>\n",
              "      <td>0.855911</td>\n",
              "      <td>08:28</td>\n",
              "    </tr>\n",
              "    <tr>\n",
              "      <td>1</td>\n",
              "      <td>0.213423</td>\n",
              "      <td>0.212229</td>\n",
              "      <td>0.885165</td>\n",
              "      <td>08:30</td>\n",
              "    </tr>\n",
              "    <tr>\n",
              "      <td>2</td>\n",
              "      <td>0.200812</td>\n",
              "      <td>0.208593</td>\n",
              "      <td>0.891506</td>\n",
              "      <td>08:29</td>\n",
              "    </tr>\n",
              "    <tr>\n",
              "      <td>3</td>\n",
              "      <td>0.192669</td>\n",
              "      <td>0.207424</td>\n",
              "      <td>0.883910</td>\n",
              "      <td>08:30</td>\n",
              "    </tr>\n",
              "    <tr>\n",
              "      <td>4</td>\n",
              "      <td>0.171018</td>\n",
              "      <td>0.212532</td>\n",
              "      <td>0.881160</td>\n",
              "      <td>08:30</td>\n",
              "    </tr>\n",
              "  </tbody>\n",
              "</table>"
            ]
          },
          "metadata": {}
        }
      ],
      "source": [
        "learner.fit_one_cycle(5, lr_max = lr_max)"
      ]
    },
    {
      "cell_type": "code",
      "execution_count": null,
      "metadata": {
        "colab": {
          "base_uri": "https://localhost:8080/"
        },
        "id": "QYrpdak9NiQC",
        "outputId": "de9263bf-4efc-47d6-834c-e411e162bd27"
      },
      "outputs": [
        {
          "output_type": "execute_result",
          "data": {
            "text/plain": [
              "Path('models/story-genre-classifier.pth')"
            ]
          },
          "metadata": {},
          "execution_count": 55
        }
      ],
      "source": [
        "learner.save(\"story-genre-classifier\")"
      ]
    },
    {
      "cell_type": "code",
      "source": [
        "learner.export(\"story-genre-classifier-v1.pkl\")"
      ],
      "metadata": {
        "id": "z46ZXr4kwn1L"
      },
      "execution_count": null,
      "outputs": []
    }
  ],
  "metadata": {
    "accelerator": "GPU",
    "colab": {
      "provenance": []
    },
    "kernelspec": {
      "display_name": "Python 3",
      "name": "python3"
    },
    "language_info": {
      "name": "python"
    },
    "widgets": {
      "application/vnd.jupyter.widget-state+json": {
        "ab28b106570446d892b38019c590d346": {
          "model_module": "@jupyter-widgets/controls",
          "model_name": "HBoxModel",
          "model_module_version": "1.5.0",
          "state": {
            "_dom_classes": [],
            "_model_module": "@jupyter-widgets/controls",
            "_model_module_version": "1.5.0",
            "_model_name": "HBoxModel",
            "_view_count": null,
            "_view_module": "@jupyter-widgets/controls",
            "_view_module_version": "1.5.0",
            "_view_name": "HBoxView",
            "box_style": "",
            "children": [
              "IPY_MODEL_66718e94741b434a8eef3fff5f4f65b3",
              "IPY_MODEL_5a6f71e1965943c78e41d6a6813b3b01",
              "IPY_MODEL_6bc70ca8604549c8af643e48dafe49cd"
            ],
            "layout": "IPY_MODEL_53b0f76db2f54b039a0d9fdcb3c63ec8"
          }
        },
        "66718e94741b434a8eef3fff5f4f65b3": {
          "model_module": "@jupyter-widgets/controls",
          "model_name": "HTMLModel",
          "model_module_version": "1.5.0",
          "state": {
            "_dom_classes": [],
            "_model_module": "@jupyter-widgets/controls",
            "_model_module_version": "1.5.0",
            "_model_name": "HTMLModel",
            "_view_count": null,
            "_view_module": "@jupyter-widgets/controls",
            "_view_module_version": "1.5.0",
            "_view_name": "HTMLView",
            "description": "",
            "description_tooltip": null,
            "layout": "IPY_MODEL_cab9ab59781b4eb4824be9a4561cb9c6",
            "placeholder": "​",
            "style": "IPY_MODEL_700c04a163b342d7b6c9b1ad51fc90a9",
            "value": "Downloading (…)lve/main/config.json: 100%"
          }
        },
        "5a6f71e1965943c78e41d6a6813b3b01": {
          "model_module": "@jupyter-widgets/controls",
          "model_name": "FloatProgressModel",
          "model_module_version": "1.5.0",
          "state": {
            "_dom_classes": [],
            "_model_module": "@jupyter-widgets/controls",
            "_model_module_version": "1.5.0",
            "_model_name": "FloatProgressModel",
            "_view_count": null,
            "_view_module": "@jupyter-widgets/controls",
            "_view_module_version": "1.5.0",
            "_view_name": "ProgressView",
            "bar_style": "success",
            "description": "",
            "description_tooltip": null,
            "layout": "IPY_MODEL_d47f0f61e0574af7898f35ca83b09ca3",
            "max": 570,
            "min": 0,
            "orientation": "horizontal",
            "style": "IPY_MODEL_389831c00dca4945b48bb1561a670705",
            "value": 570
          }
        },
        "6bc70ca8604549c8af643e48dafe49cd": {
          "model_module": "@jupyter-widgets/controls",
          "model_name": "HTMLModel",
          "model_module_version": "1.5.0",
          "state": {
            "_dom_classes": [],
            "_model_module": "@jupyter-widgets/controls",
            "_model_module_version": "1.5.0",
            "_model_name": "HTMLModel",
            "_view_count": null,
            "_view_module": "@jupyter-widgets/controls",
            "_view_module_version": "1.5.0",
            "_view_name": "HTMLView",
            "description": "",
            "description_tooltip": null,
            "layout": "IPY_MODEL_1a270b4a4aae4a56b3b8d9d5d229bb81",
            "placeholder": "​",
            "style": "IPY_MODEL_317af88bb7b04ba482813576c75bb101",
            "value": " 570/570 [00:00&lt;00:00, 28.1kB/s]"
          }
        },
        "53b0f76db2f54b039a0d9fdcb3c63ec8": {
          "model_module": "@jupyter-widgets/base",
          "model_name": "LayoutModel",
          "model_module_version": "1.2.0",
          "state": {
            "_model_module": "@jupyter-widgets/base",
            "_model_module_version": "1.2.0",
            "_model_name": "LayoutModel",
            "_view_count": null,
            "_view_module": "@jupyter-widgets/base",
            "_view_module_version": "1.2.0",
            "_view_name": "LayoutView",
            "align_content": null,
            "align_items": null,
            "align_self": null,
            "border": null,
            "bottom": null,
            "display": null,
            "flex": null,
            "flex_flow": null,
            "grid_area": null,
            "grid_auto_columns": null,
            "grid_auto_flow": null,
            "grid_auto_rows": null,
            "grid_column": null,
            "grid_gap": null,
            "grid_row": null,
            "grid_template_areas": null,
            "grid_template_columns": null,
            "grid_template_rows": null,
            "height": null,
            "justify_content": null,
            "justify_items": null,
            "left": null,
            "margin": null,
            "max_height": null,
            "max_width": null,
            "min_height": null,
            "min_width": null,
            "object_fit": null,
            "object_position": null,
            "order": null,
            "overflow": null,
            "overflow_x": null,
            "overflow_y": null,
            "padding": null,
            "right": null,
            "top": null,
            "visibility": null,
            "width": null
          }
        },
        "cab9ab59781b4eb4824be9a4561cb9c6": {
          "model_module": "@jupyter-widgets/base",
          "model_name": "LayoutModel",
          "model_module_version": "1.2.0",
          "state": {
            "_model_module": "@jupyter-widgets/base",
            "_model_module_version": "1.2.0",
            "_model_name": "LayoutModel",
            "_view_count": null,
            "_view_module": "@jupyter-widgets/base",
            "_view_module_version": "1.2.0",
            "_view_name": "LayoutView",
            "align_content": null,
            "align_items": null,
            "align_self": null,
            "border": null,
            "bottom": null,
            "display": null,
            "flex": null,
            "flex_flow": null,
            "grid_area": null,
            "grid_auto_columns": null,
            "grid_auto_flow": null,
            "grid_auto_rows": null,
            "grid_column": null,
            "grid_gap": null,
            "grid_row": null,
            "grid_template_areas": null,
            "grid_template_columns": null,
            "grid_template_rows": null,
            "height": null,
            "justify_content": null,
            "justify_items": null,
            "left": null,
            "margin": null,
            "max_height": null,
            "max_width": null,
            "min_height": null,
            "min_width": null,
            "object_fit": null,
            "object_position": null,
            "order": null,
            "overflow": null,
            "overflow_x": null,
            "overflow_y": null,
            "padding": null,
            "right": null,
            "top": null,
            "visibility": null,
            "width": null
          }
        },
        "700c04a163b342d7b6c9b1ad51fc90a9": {
          "model_module": "@jupyter-widgets/controls",
          "model_name": "DescriptionStyleModel",
          "model_module_version": "1.5.0",
          "state": {
            "_model_module": "@jupyter-widgets/controls",
            "_model_module_version": "1.5.0",
            "_model_name": "DescriptionStyleModel",
            "_view_count": null,
            "_view_module": "@jupyter-widgets/base",
            "_view_module_version": "1.2.0",
            "_view_name": "StyleView",
            "description_width": ""
          }
        },
        "d47f0f61e0574af7898f35ca83b09ca3": {
          "model_module": "@jupyter-widgets/base",
          "model_name": "LayoutModel",
          "model_module_version": "1.2.0",
          "state": {
            "_model_module": "@jupyter-widgets/base",
            "_model_module_version": "1.2.0",
            "_model_name": "LayoutModel",
            "_view_count": null,
            "_view_module": "@jupyter-widgets/base",
            "_view_module_version": "1.2.0",
            "_view_name": "LayoutView",
            "align_content": null,
            "align_items": null,
            "align_self": null,
            "border": null,
            "bottom": null,
            "display": null,
            "flex": null,
            "flex_flow": null,
            "grid_area": null,
            "grid_auto_columns": null,
            "grid_auto_flow": null,
            "grid_auto_rows": null,
            "grid_column": null,
            "grid_gap": null,
            "grid_row": null,
            "grid_template_areas": null,
            "grid_template_columns": null,
            "grid_template_rows": null,
            "height": null,
            "justify_content": null,
            "justify_items": null,
            "left": null,
            "margin": null,
            "max_height": null,
            "max_width": null,
            "min_height": null,
            "min_width": null,
            "object_fit": null,
            "object_position": null,
            "order": null,
            "overflow": null,
            "overflow_x": null,
            "overflow_y": null,
            "padding": null,
            "right": null,
            "top": null,
            "visibility": null,
            "width": null
          }
        },
        "389831c00dca4945b48bb1561a670705": {
          "model_module": "@jupyter-widgets/controls",
          "model_name": "ProgressStyleModel",
          "model_module_version": "1.5.0",
          "state": {
            "_model_module": "@jupyter-widgets/controls",
            "_model_module_version": "1.5.0",
            "_model_name": "ProgressStyleModel",
            "_view_count": null,
            "_view_module": "@jupyter-widgets/base",
            "_view_module_version": "1.2.0",
            "_view_name": "StyleView",
            "bar_color": null,
            "description_width": ""
          }
        },
        "1a270b4a4aae4a56b3b8d9d5d229bb81": {
          "model_module": "@jupyter-widgets/base",
          "model_name": "LayoutModel",
          "model_module_version": "1.2.0",
          "state": {
            "_model_module": "@jupyter-widgets/base",
            "_model_module_version": "1.2.0",
            "_model_name": "LayoutModel",
            "_view_count": null,
            "_view_module": "@jupyter-widgets/base",
            "_view_module_version": "1.2.0",
            "_view_name": "LayoutView",
            "align_content": null,
            "align_items": null,
            "align_self": null,
            "border": null,
            "bottom": null,
            "display": null,
            "flex": null,
            "flex_flow": null,
            "grid_area": null,
            "grid_auto_columns": null,
            "grid_auto_flow": null,
            "grid_auto_rows": null,
            "grid_column": null,
            "grid_gap": null,
            "grid_row": null,
            "grid_template_areas": null,
            "grid_template_columns": null,
            "grid_template_rows": null,
            "height": null,
            "justify_content": null,
            "justify_items": null,
            "left": null,
            "margin": null,
            "max_height": null,
            "max_width": null,
            "min_height": null,
            "min_width": null,
            "object_fit": null,
            "object_position": null,
            "order": null,
            "overflow": null,
            "overflow_x": null,
            "overflow_y": null,
            "padding": null,
            "right": null,
            "top": null,
            "visibility": null,
            "width": null
          }
        },
        "317af88bb7b04ba482813576c75bb101": {
          "model_module": "@jupyter-widgets/controls",
          "model_name": "DescriptionStyleModel",
          "model_module_version": "1.5.0",
          "state": {
            "_model_module": "@jupyter-widgets/controls",
            "_model_module_version": "1.5.0",
            "_model_name": "DescriptionStyleModel",
            "_view_count": null,
            "_view_module": "@jupyter-widgets/base",
            "_view_module_version": "1.2.0",
            "_view_name": "StyleView",
            "description_width": ""
          }
        },
        "cc5d78c85ccb4278a23c39770a627cf7": {
          "model_module": "@jupyter-widgets/controls",
          "model_name": "HBoxModel",
          "model_module_version": "1.5.0",
          "state": {
            "_dom_classes": [],
            "_model_module": "@jupyter-widgets/controls",
            "_model_module_version": "1.5.0",
            "_model_name": "HBoxModel",
            "_view_count": null,
            "_view_module": "@jupyter-widgets/controls",
            "_view_module_version": "1.5.0",
            "_view_name": "HBoxView",
            "box_style": "",
            "children": [
              "IPY_MODEL_24d1907aead04894a71d9a38e6be1a01",
              "IPY_MODEL_513a1004e8d14ea1aa9e9aedc2e55a8e",
              "IPY_MODEL_b705ecc084074c9cb3a8cccbaf640477"
            ],
            "layout": "IPY_MODEL_f0d53a806f9c4cefa28372e45a7d25db"
          }
        },
        "24d1907aead04894a71d9a38e6be1a01": {
          "model_module": "@jupyter-widgets/controls",
          "model_name": "HTMLModel",
          "model_module_version": "1.5.0",
          "state": {
            "_dom_classes": [],
            "_model_module": "@jupyter-widgets/controls",
            "_model_module_version": "1.5.0",
            "_model_name": "HTMLModel",
            "_view_count": null,
            "_view_module": "@jupyter-widgets/controls",
            "_view_module_version": "1.5.0",
            "_view_name": "HTMLView",
            "description": "",
            "description_tooltip": null,
            "layout": "IPY_MODEL_3200655d3fb443c39f639a5b296029b3",
            "placeholder": "​",
            "style": "IPY_MODEL_c89c5a4e96914126ba1cf68f2c060c32",
            "value": "Downloading (…)okenizer_config.json: 100%"
          }
        },
        "513a1004e8d14ea1aa9e9aedc2e55a8e": {
          "model_module": "@jupyter-widgets/controls",
          "model_name": "FloatProgressModel",
          "model_module_version": "1.5.0",
          "state": {
            "_dom_classes": [],
            "_model_module": "@jupyter-widgets/controls",
            "_model_module_version": "1.5.0",
            "_model_name": "FloatProgressModel",
            "_view_count": null,
            "_view_module": "@jupyter-widgets/controls",
            "_view_module_version": "1.5.0",
            "_view_name": "ProgressView",
            "bar_style": "success",
            "description": "",
            "description_tooltip": null,
            "layout": "IPY_MODEL_1ad1b823e5b64aee8dc9055b2d6da835",
            "max": 28,
            "min": 0,
            "orientation": "horizontal",
            "style": "IPY_MODEL_2f6bab6fb9f54833bb25a4821810572a",
            "value": 28
          }
        },
        "b705ecc084074c9cb3a8cccbaf640477": {
          "model_module": "@jupyter-widgets/controls",
          "model_name": "HTMLModel",
          "model_module_version": "1.5.0",
          "state": {
            "_dom_classes": [],
            "_model_module": "@jupyter-widgets/controls",
            "_model_module_version": "1.5.0",
            "_model_name": "HTMLModel",
            "_view_count": null,
            "_view_module": "@jupyter-widgets/controls",
            "_view_module_version": "1.5.0",
            "_view_name": "HTMLView",
            "description": "",
            "description_tooltip": null,
            "layout": "IPY_MODEL_2cea4fb4f48e49eaa8609001318d3552",
            "placeholder": "​",
            "style": "IPY_MODEL_47183174acac4991bdcfe70d47b44507",
            "value": " 28.0/28.0 [00:00&lt;00:00, 1.64kB/s]"
          }
        },
        "f0d53a806f9c4cefa28372e45a7d25db": {
          "model_module": "@jupyter-widgets/base",
          "model_name": "LayoutModel",
          "model_module_version": "1.2.0",
          "state": {
            "_model_module": "@jupyter-widgets/base",
            "_model_module_version": "1.2.0",
            "_model_name": "LayoutModel",
            "_view_count": null,
            "_view_module": "@jupyter-widgets/base",
            "_view_module_version": "1.2.0",
            "_view_name": "LayoutView",
            "align_content": null,
            "align_items": null,
            "align_self": null,
            "border": null,
            "bottom": null,
            "display": null,
            "flex": null,
            "flex_flow": null,
            "grid_area": null,
            "grid_auto_columns": null,
            "grid_auto_flow": null,
            "grid_auto_rows": null,
            "grid_column": null,
            "grid_gap": null,
            "grid_row": null,
            "grid_template_areas": null,
            "grid_template_columns": null,
            "grid_template_rows": null,
            "height": null,
            "justify_content": null,
            "justify_items": null,
            "left": null,
            "margin": null,
            "max_height": null,
            "max_width": null,
            "min_height": null,
            "min_width": null,
            "object_fit": null,
            "object_position": null,
            "order": null,
            "overflow": null,
            "overflow_x": null,
            "overflow_y": null,
            "padding": null,
            "right": null,
            "top": null,
            "visibility": null,
            "width": null
          }
        },
        "3200655d3fb443c39f639a5b296029b3": {
          "model_module": "@jupyter-widgets/base",
          "model_name": "LayoutModel",
          "model_module_version": "1.2.0",
          "state": {
            "_model_module": "@jupyter-widgets/base",
            "_model_module_version": "1.2.0",
            "_model_name": "LayoutModel",
            "_view_count": null,
            "_view_module": "@jupyter-widgets/base",
            "_view_module_version": "1.2.0",
            "_view_name": "LayoutView",
            "align_content": null,
            "align_items": null,
            "align_self": null,
            "border": null,
            "bottom": null,
            "display": null,
            "flex": null,
            "flex_flow": null,
            "grid_area": null,
            "grid_auto_columns": null,
            "grid_auto_flow": null,
            "grid_auto_rows": null,
            "grid_column": null,
            "grid_gap": null,
            "grid_row": null,
            "grid_template_areas": null,
            "grid_template_columns": null,
            "grid_template_rows": null,
            "height": null,
            "justify_content": null,
            "justify_items": null,
            "left": null,
            "margin": null,
            "max_height": null,
            "max_width": null,
            "min_height": null,
            "min_width": null,
            "object_fit": null,
            "object_position": null,
            "order": null,
            "overflow": null,
            "overflow_x": null,
            "overflow_y": null,
            "padding": null,
            "right": null,
            "top": null,
            "visibility": null,
            "width": null
          }
        },
        "c89c5a4e96914126ba1cf68f2c060c32": {
          "model_module": "@jupyter-widgets/controls",
          "model_name": "DescriptionStyleModel",
          "model_module_version": "1.5.0",
          "state": {
            "_model_module": "@jupyter-widgets/controls",
            "_model_module_version": "1.5.0",
            "_model_name": "DescriptionStyleModel",
            "_view_count": null,
            "_view_module": "@jupyter-widgets/base",
            "_view_module_version": "1.2.0",
            "_view_name": "StyleView",
            "description_width": ""
          }
        },
        "1ad1b823e5b64aee8dc9055b2d6da835": {
          "model_module": "@jupyter-widgets/base",
          "model_name": "LayoutModel",
          "model_module_version": "1.2.0",
          "state": {
            "_model_module": "@jupyter-widgets/base",
            "_model_module_version": "1.2.0",
            "_model_name": "LayoutModel",
            "_view_count": null,
            "_view_module": "@jupyter-widgets/base",
            "_view_module_version": "1.2.0",
            "_view_name": "LayoutView",
            "align_content": null,
            "align_items": null,
            "align_self": null,
            "border": null,
            "bottom": null,
            "display": null,
            "flex": null,
            "flex_flow": null,
            "grid_area": null,
            "grid_auto_columns": null,
            "grid_auto_flow": null,
            "grid_auto_rows": null,
            "grid_column": null,
            "grid_gap": null,
            "grid_row": null,
            "grid_template_areas": null,
            "grid_template_columns": null,
            "grid_template_rows": null,
            "height": null,
            "justify_content": null,
            "justify_items": null,
            "left": null,
            "margin": null,
            "max_height": null,
            "max_width": null,
            "min_height": null,
            "min_width": null,
            "object_fit": null,
            "object_position": null,
            "order": null,
            "overflow": null,
            "overflow_x": null,
            "overflow_y": null,
            "padding": null,
            "right": null,
            "top": null,
            "visibility": null,
            "width": null
          }
        },
        "2f6bab6fb9f54833bb25a4821810572a": {
          "model_module": "@jupyter-widgets/controls",
          "model_name": "ProgressStyleModel",
          "model_module_version": "1.5.0",
          "state": {
            "_model_module": "@jupyter-widgets/controls",
            "_model_module_version": "1.5.0",
            "_model_name": "ProgressStyleModel",
            "_view_count": null,
            "_view_module": "@jupyter-widgets/base",
            "_view_module_version": "1.2.0",
            "_view_name": "StyleView",
            "bar_color": null,
            "description_width": ""
          }
        },
        "2cea4fb4f48e49eaa8609001318d3552": {
          "model_module": "@jupyter-widgets/base",
          "model_name": "LayoutModel",
          "model_module_version": "1.2.0",
          "state": {
            "_model_module": "@jupyter-widgets/base",
            "_model_module_version": "1.2.0",
            "_model_name": "LayoutModel",
            "_view_count": null,
            "_view_module": "@jupyter-widgets/base",
            "_view_module_version": "1.2.0",
            "_view_name": "LayoutView",
            "align_content": null,
            "align_items": null,
            "align_self": null,
            "border": null,
            "bottom": null,
            "display": null,
            "flex": null,
            "flex_flow": null,
            "grid_area": null,
            "grid_auto_columns": null,
            "grid_auto_flow": null,
            "grid_auto_rows": null,
            "grid_column": null,
            "grid_gap": null,
            "grid_row": null,
            "grid_template_areas": null,
            "grid_template_columns": null,
            "grid_template_rows": null,
            "height": null,
            "justify_content": null,
            "justify_items": null,
            "left": null,
            "margin": null,
            "max_height": null,
            "max_width": null,
            "min_height": null,
            "min_width": null,
            "object_fit": null,
            "object_position": null,
            "order": null,
            "overflow": null,
            "overflow_x": null,
            "overflow_y": null,
            "padding": null,
            "right": null,
            "top": null,
            "visibility": null,
            "width": null
          }
        },
        "47183174acac4991bdcfe70d47b44507": {
          "model_module": "@jupyter-widgets/controls",
          "model_name": "DescriptionStyleModel",
          "model_module_version": "1.5.0",
          "state": {
            "_model_module": "@jupyter-widgets/controls",
            "_model_module_version": "1.5.0",
            "_model_name": "DescriptionStyleModel",
            "_view_count": null,
            "_view_module": "@jupyter-widgets/base",
            "_view_module_version": "1.2.0",
            "_view_name": "StyleView",
            "description_width": ""
          }
        },
        "4343dc22ecd6404dbfa77001744f364e": {
          "model_module": "@jupyter-widgets/controls",
          "model_name": "HBoxModel",
          "model_module_version": "1.5.0",
          "state": {
            "_dom_classes": [],
            "_model_module": "@jupyter-widgets/controls",
            "_model_module_version": "1.5.0",
            "_model_name": "HBoxModel",
            "_view_count": null,
            "_view_module": "@jupyter-widgets/controls",
            "_view_module_version": "1.5.0",
            "_view_name": "HBoxView",
            "box_style": "",
            "children": [
              "IPY_MODEL_797efd8a99604d75b64423e07599076d",
              "IPY_MODEL_71fdf1ba6a964096a95124cc3d1e440a",
              "IPY_MODEL_1f8584c01a5349ffbe15aec95abfbdd1"
            ],
            "layout": "IPY_MODEL_3b2ffa1cac5447b994890d43cbabf215"
          }
        },
        "797efd8a99604d75b64423e07599076d": {
          "model_module": "@jupyter-widgets/controls",
          "model_name": "HTMLModel",
          "model_module_version": "1.5.0",
          "state": {
            "_dom_classes": [],
            "_model_module": "@jupyter-widgets/controls",
            "_model_module_version": "1.5.0",
            "_model_name": "HTMLModel",
            "_view_count": null,
            "_view_module": "@jupyter-widgets/controls",
            "_view_module_version": "1.5.0",
            "_view_name": "HTMLView",
            "description": "",
            "description_tooltip": null,
            "layout": "IPY_MODEL_3795528525fc457b99296e7d31feaa4e",
            "placeholder": "​",
            "style": "IPY_MODEL_3ca4be3d5e5049888b2d2f61e73a8d42",
            "value": "Downloading (…)solve/main/vocab.txt: 100%"
          }
        },
        "71fdf1ba6a964096a95124cc3d1e440a": {
          "model_module": "@jupyter-widgets/controls",
          "model_name": "FloatProgressModel",
          "model_module_version": "1.5.0",
          "state": {
            "_dom_classes": [],
            "_model_module": "@jupyter-widgets/controls",
            "_model_module_version": "1.5.0",
            "_model_name": "FloatProgressModel",
            "_view_count": null,
            "_view_module": "@jupyter-widgets/controls",
            "_view_module_version": "1.5.0",
            "_view_name": "ProgressView",
            "bar_style": "success",
            "description": "",
            "description_tooltip": null,
            "layout": "IPY_MODEL_e7ccb7cdf7144020a0f2f450db807796",
            "max": 231508,
            "min": 0,
            "orientation": "horizontal",
            "style": "IPY_MODEL_d7c764df67e44475accbd70ddc045df9",
            "value": 231508
          }
        },
        "1f8584c01a5349ffbe15aec95abfbdd1": {
          "model_module": "@jupyter-widgets/controls",
          "model_name": "HTMLModel",
          "model_module_version": "1.5.0",
          "state": {
            "_dom_classes": [],
            "_model_module": "@jupyter-widgets/controls",
            "_model_module_version": "1.5.0",
            "_model_name": "HTMLModel",
            "_view_count": null,
            "_view_module": "@jupyter-widgets/controls",
            "_view_module_version": "1.5.0",
            "_view_name": "HTMLView",
            "description": "",
            "description_tooltip": null,
            "layout": "IPY_MODEL_ed9f98e7a7634484b7f499169673065f",
            "placeholder": "​",
            "style": "IPY_MODEL_2de85e059bc6479dabe67524372a4968",
            "value": " 232k/232k [00:00&lt;00:00, 9.71MB/s]"
          }
        },
        "3b2ffa1cac5447b994890d43cbabf215": {
          "model_module": "@jupyter-widgets/base",
          "model_name": "LayoutModel",
          "model_module_version": "1.2.0",
          "state": {
            "_model_module": "@jupyter-widgets/base",
            "_model_module_version": "1.2.0",
            "_model_name": "LayoutModel",
            "_view_count": null,
            "_view_module": "@jupyter-widgets/base",
            "_view_module_version": "1.2.0",
            "_view_name": "LayoutView",
            "align_content": null,
            "align_items": null,
            "align_self": null,
            "border": null,
            "bottom": null,
            "display": null,
            "flex": null,
            "flex_flow": null,
            "grid_area": null,
            "grid_auto_columns": null,
            "grid_auto_flow": null,
            "grid_auto_rows": null,
            "grid_column": null,
            "grid_gap": null,
            "grid_row": null,
            "grid_template_areas": null,
            "grid_template_columns": null,
            "grid_template_rows": null,
            "height": null,
            "justify_content": null,
            "justify_items": null,
            "left": null,
            "margin": null,
            "max_height": null,
            "max_width": null,
            "min_height": null,
            "min_width": null,
            "object_fit": null,
            "object_position": null,
            "order": null,
            "overflow": null,
            "overflow_x": null,
            "overflow_y": null,
            "padding": null,
            "right": null,
            "top": null,
            "visibility": null,
            "width": null
          }
        },
        "3795528525fc457b99296e7d31feaa4e": {
          "model_module": "@jupyter-widgets/base",
          "model_name": "LayoutModel",
          "model_module_version": "1.2.0",
          "state": {
            "_model_module": "@jupyter-widgets/base",
            "_model_module_version": "1.2.0",
            "_model_name": "LayoutModel",
            "_view_count": null,
            "_view_module": "@jupyter-widgets/base",
            "_view_module_version": "1.2.0",
            "_view_name": "LayoutView",
            "align_content": null,
            "align_items": null,
            "align_self": null,
            "border": null,
            "bottom": null,
            "display": null,
            "flex": null,
            "flex_flow": null,
            "grid_area": null,
            "grid_auto_columns": null,
            "grid_auto_flow": null,
            "grid_auto_rows": null,
            "grid_column": null,
            "grid_gap": null,
            "grid_row": null,
            "grid_template_areas": null,
            "grid_template_columns": null,
            "grid_template_rows": null,
            "height": null,
            "justify_content": null,
            "justify_items": null,
            "left": null,
            "margin": null,
            "max_height": null,
            "max_width": null,
            "min_height": null,
            "min_width": null,
            "object_fit": null,
            "object_position": null,
            "order": null,
            "overflow": null,
            "overflow_x": null,
            "overflow_y": null,
            "padding": null,
            "right": null,
            "top": null,
            "visibility": null,
            "width": null
          }
        },
        "3ca4be3d5e5049888b2d2f61e73a8d42": {
          "model_module": "@jupyter-widgets/controls",
          "model_name": "DescriptionStyleModel",
          "model_module_version": "1.5.0",
          "state": {
            "_model_module": "@jupyter-widgets/controls",
            "_model_module_version": "1.5.0",
            "_model_name": "DescriptionStyleModel",
            "_view_count": null,
            "_view_module": "@jupyter-widgets/base",
            "_view_module_version": "1.2.0",
            "_view_name": "StyleView",
            "description_width": ""
          }
        },
        "e7ccb7cdf7144020a0f2f450db807796": {
          "model_module": "@jupyter-widgets/base",
          "model_name": "LayoutModel",
          "model_module_version": "1.2.0",
          "state": {
            "_model_module": "@jupyter-widgets/base",
            "_model_module_version": "1.2.0",
            "_model_name": "LayoutModel",
            "_view_count": null,
            "_view_module": "@jupyter-widgets/base",
            "_view_module_version": "1.2.0",
            "_view_name": "LayoutView",
            "align_content": null,
            "align_items": null,
            "align_self": null,
            "border": null,
            "bottom": null,
            "display": null,
            "flex": null,
            "flex_flow": null,
            "grid_area": null,
            "grid_auto_columns": null,
            "grid_auto_flow": null,
            "grid_auto_rows": null,
            "grid_column": null,
            "grid_gap": null,
            "grid_row": null,
            "grid_template_areas": null,
            "grid_template_columns": null,
            "grid_template_rows": null,
            "height": null,
            "justify_content": null,
            "justify_items": null,
            "left": null,
            "margin": null,
            "max_height": null,
            "max_width": null,
            "min_height": null,
            "min_width": null,
            "object_fit": null,
            "object_position": null,
            "order": null,
            "overflow": null,
            "overflow_x": null,
            "overflow_y": null,
            "padding": null,
            "right": null,
            "top": null,
            "visibility": null,
            "width": null
          }
        },
        "d7c764df67e44475accbd70ddc045df9": {
          "model_module": "@jupyter-widgets/controls",
          "model_name": "ProgressStyleModel",
          "model_module_version": "1.5.0",
          "state": {
            "_model_module": "@jupyter-widgets/controls",
            "_model_module_version": "1.5.0",
            "_model_name": "ProgressStyleModel",
            "_view_count": null,
            "_view_module": "@jupyter-widgets/base",
            "_view_module_version": "1.2.0",
            "_view_name": "StyleView",
            "bar_color": null,
            "description_width": ""
          }
        },
        "ed9f98e7a7634484b7f499169673065f": {
          "model_module": "@jupyter-widgets/base",
          "model_name": "LayoutModel",
          "model_module_version": "1.2.0",
          "state": {
            "_model_module": "@jupyter-widgets/base",
            "_model_module_version": "1.2.0",
            "_model_name": "LayoutModel",
            "_view_count": null,
            "_view_module": "@jupyter-widgets/base",
            "_view_module_version": "1.2.0",
            "_view_name": "LayoutView",
            "align_content": null,
            "align_items": null,
            "align_self": null,
            "border": null,
            "bottom": null,
            "display": null,
            "flex": null,
            "flex_flow": null,
            "grid_area": null,
            "grid_auto_columns": null,
            "grid_auto_flow": null,
            "grid_auto_rows": null,
            "grid_column": null,
            "grid_gap": null,
            "grid_row": null,
            "grid_template_areas": null,
            "grid_template_columns": null,
            "grid_template_rows": null,
            "height": null,
            "justify_content": null,
            "justify_items": null,
            "left": null,
            "margin": null,
            "max_height": null,
            "max_width": null,
            "min_height": null,
            "min_width": null,
            "object_fit": null,
            "object_position": null,
            "order": null,
            "overflow": null,
            "overflow_x": null,
            "overflow_y": null,
            "padding": null,
            "right": null,
            "top": null,
            "visibility": null,
            "width": null
          }
        },
        "2de85e059bc6479dabe67524372a4968": {
          "model_module": "@jupyter-widgets/controls",
          "model_name": "DescriptionStyleModel",
          "model_module_version": "1.5.0",
          "state": {
            "_model_module": "@jupyter-widgets/controls",
            "_model_module_version": "1.5.0",
            "_model_name": "DescriptionStyleModel",
            "_view_count": null,
            "_view_module": "@jupyter-widgets/base",
            "_view_module_version": "1.2.0",
            "_view_name": "StyleView",
            "description_width": ""
          }
        },
        "8c09d790185442e2844d1c011121b053": {
          "model_module": "@jupyter-widgets/controls",
          "model_name": "HBoxModel",
          "model_module_version": "1.5.0",
          "state": {
            "_dom_classes": [],
            "_model_module": "@jupyter-widgets/controls",
            "_model_module_version": "1.5.0",
            "_model_name": "HBoxModel",
            "_view_count": null,
            "_view_module": "@jupyter-widgets/controls",
            "_view_module_version": "1.5.0",
            "_view_name": "HBoxView",
            "box_style": "",
            "children": [
              "IPY_MODEL_6e57d8f61ac34f52bae4fb51238f1720",
              "IPY_MODEL_f766943be396442abf64941fc1ca9d41",
              "IPY_MODEL_225e7e570f5241258bba13258d5e0e60"
            ],
            "layout": "IPY_MODEL_23881e29cf0d4b559c80b1b51676717b"
          }
        },
        "6e57d8f61ac34f52bae4fb51238f1720": {
          "model_module": "@jupyter-widgets/controls",
          "model_name": "HTMLModel",
          "model_module_version": "1.5.0",
          "state": {
            "_dom_classes": [],
            "_model_module": "@jupyter-widgets/controls",
            "_model_module_version": "1.5.0",
            "_model_name": "HTMLModel",
            "_view_count": null,
            "_view_module": "@jupyter-widgets/controls",
            "_view_module_version": "1.5.0",
            "_view_name": "HTMLView",
            "description": "",
            "description_tooltip": null,
            "layout": "IPY_MODEL_9acf019699af4b0187042b9991cc896c",
            "placeholder": "​",
            "style": "IPY_MODEL_adc4b034d95f4711984691138a0973d7",
            "value": "Downloading (…)/main/tokenizer.json: 100%"
          }
        },
        "f766943be396442abf64941fc1ca9d41": {
          "model_module": "@jupyter-widgets/controls",
          "model_name": "FloatProgressModel",
          "model_module_version": "1.5.0",
          "state": {
            "_dom_classes": [],
            "_model_module": "@jupyter-widgets/controls",
            "_model_module_version": "1.5.0",
            "_model_name": "FloatProgressModel",
            "_view_count": null,
            "_view_module": "@jupyter-widgets/controls",
            "_view_module_version": "1.5.0",
            "_view_name": "ProgressView",
            "bar_style": "success",
            "description": "",
            "description_tooltip": null,
            "layout": "IPY_MODEL_0f5246e166f141cbb8de0985b211e937",
            "max": 466062,
            "min": 0,
            "orientation": "horizontal",
            "style": "IPY_MODEL_67606424bd634d20a43ad9152b08db9a",
            "value": 466062
          }
        },
        "225e7e570f5241258bba13258d5e0e60": {
          "model_module": "@jupyter-widgets/controls",
          "model_name": "HTMLModel",
          "model_module_version": "1.5.0",
          "state": {
            "_dom_classes": [],
            "_model_module": "@jupyter-widgets/controls",
            "_model_module_version": "1.5.0",
            "_model_name": "HTMLModel",
            "_view_count": null,
            "_view_module": "@jupyter-widgets/controls",
            "_view_module_version": "1.5.0",
            "_view_name": "HTMLView",
            "description": "",
            "description_tooltip": null,
            "layout": "IPY_MODEL_873c3b7612b046ccb92ad4a61f596901",
            "placeholder": "​",
            "style": "IPY_MODEL_2a3eb5fdb190400e91d980e4cf014b62",
            "value": " 466k/466k [00:00&lt;00:00, 26.0MB/s]"
          }
        },
        "23881e29cf0d4b559c80b1b51676717b": {
          "model_module": "@jupyter-widgets/base",
          "model_name": "LayoutModel",
          "model_module_version": "1.2.0",
          "state": {
            "_model_module": "@jupyter-widgets/base",
            "_model_module_version": "1.2.0",
            "_model_name": "LayoutModel",
            "_view_count": null,
            "_view_module": "@jupyter-widgets/base",
            "_view_module_version": "1.2.0",
            "_view_name": "LayoutView",
            "align_content": null,
            "align_items": null,
            "align_self": null,
            "border": null,
            "bottom": null,
            "display": null,
            "flex": null,
            "flex_flow": null,
            "grid_area": null,
            "grid_auto_columns": null,
            "grid_auto_flow": null,
            "grid_auto_rows": null,
            "grid_column": null,
            "grid_gap": null,
            "grid_row": null,
            "grid_template_areas": null,
            "grid_template_columns": null,
            "grid_template_rows": null,
            "height": null,
            "justify_content": null,
            "justify_items": null,
            "left": null,
            "margin": null,
            "max_height": null,
            "max_width": null,
            "min_height": null,
            "min_width": null,
            "object_fit": null,
            "object_position": null,
            "order": null,
            "overflow": null,
            "overflow_x": null,
            "overflow_y": null,
            "padding": null,
            "right": null,
            "top": null,
            "visibility": null,
            "width": null
          }
        },
        "9acf019699af4b0187042b9991cc896c": {
          "model_module": "@jupyter-widgets/base",
          "model_name": "LayoutModel",
          "model_module_version": "1.2.0",
          "state": {
            "_model_module": "@jupyter-widgets/base",
            "_model_module_version": "1.2.0",
            "_model_name": "LayoutModel",
            "_view_count": null,
            "_view_module": "@jupyter-widgets/base",
            "_view_module_version": "1.2.0",
            "_view_name": "LayoutView",
            "align_content": null,
            "align_items": null,
            "align_self": null,
            "border": null,
            "bottom": null,
            "display": null,
            "flex": null,
            "flex_flow": null,
            "grid_area": null,
            "grid_auto_columns": null,
            "grid_auto_flow": null,
            "grid_auto_rows": null,
            "grid_column": null,
            "grid_gap": null,
            "grid_row": null,
            "grid_template_areas": null,
            "grid_template_columns": null,
            "grid_template_rows": null,
            "height": null,
            "justify_content": null,
            "justify_items": null,
            "left": null,
            "margin": null,
            "max_height": null,
            "max_width": null,
            "min_height": null,
            "min_width": null,
            "object_fit": null,
            "object_position": null,
            "order": null,
            "overflow": null,
            "overflow_x": null,
            "overflow_y": null,
            "padding": null,
            "right": null,
            "top": null,
            "visibility": null,
            "width": null
          }
        },
        "adc4b034d95f4711984691138a0973d7": {
          "model_module": "@jupyter-widgets/controls",
          "model_name": "DescriptionStyleModel",
          "model_module_version": "1.5.0",
          "state": {
            "_model_module": "@jupyter-widgets/controls",
            "_model_module_version": "1.5.0",
            "_model_name": "DescriptionStyleModel",
            "_view_count": null,
            "_view_module": "@jupyter-widgets/base",
            "_view_module_version": "1.2.0",
            "_view_name": "StyleView",
            "description_width": ""
          }
        },
        "0f5246e166f141cbb8de0985b211e937": {
          "model_module": "@jupyter-widgets/base",
          "model_name": "LayoutModel",
          "model_module_version": "1.2.0",
          "state": {
            "_model_module": "@jupyter-widgets/base",
            "_model_module_version": "1.2.0",
            "_model_name": "LayoutModel",
            "_view_count": null,
            "_view_module": "@jupyter-widgets/base",
            "_view_module_version": "1.2.0",
            "_view_name": "LayoutView",
            "align_content": null,
            "align_items": null,
            "align_self": null,
            "border": null,
            "bottom": null,
            "display": null,
            "flex": null,
            "flex_flow": null,
            "grid_area": null,
            "grid_auto_columns": null,
            "grid_auto_flow": null,
            "grid_auto_rows": null,
            "grid_column": null,
            "grid_gap": null,
            "grid_row": null,
            "grid_template_areas": null,
            "grid_template_columns": null,
            "grid_template_rows": null,
            "height": null,
            "justify_content": null,
            "justify_items": null,
            "left": null,
            "margin": null,
            "max_height": null,
            "max_width": null,
            "min_height": null,
            "min_width": null,
            "object_fit": null,
            "object_position": null,
            "order": null,
            "overflow": null,
            "overflow_x": null,
            "overflow_y": null,
            "padding": null,
            "right": null,
            "top": null,
            "visibility": null,
            "width": null
          }
        },
        "67606424bd634d20a43ad9152b08db9a": {
          "model_module": "@jupyter-widgets/controls",
          "model_name": "ProgressStyleModel",
          "model_module_version": "1.5.0",
          "state": {
            "_model_module": "@jupyter-widgets/controls",
            "_model_module_version": "1.5.0",
            "_model_name": "ProgressStyleModel",
            "_view_count": null,
            "_view_module": "@jupyter-widgets/base",
            "_view_module_version": "1.2.0",
            "_view_name": "StyleView",
            "bar_color": null,
            "description_width": ""
          }
        },
        "873c3b7612b046ccb92ad4a61f596901": {
          "model_module": "@jupyter-widgets/base",
          "model_name": "LayoutModel",
          "model_module_version": "1.2.0",
          "state": {
            "_model_module": "@jupyter-widgets/base",
            "_model_module_version": "1.2.0",
            "_model_name": "LayoutModel",
            "_view_count": null,
            "_view_module": "@jupyter-widgets/base",
            "_view_module_version": "1.2.0",
            "_view_name": "LayoutView",
            "align_content": null,
            "align_items": null,
            "align_self": null,
            "border": null,
            "bottom": null,
            "display": null,
            "flex": null,
            "flex_flow": null,
            "grid_area": null,
            "grid_auto_columns": null,
            "grid_auto_flow": null,
            "grid_auto_rows": null,
            "grid_column": null,
            "grid_gap": null,
            "grid_row": null,
            "grid_template_areas": null,
            "grid_template_columns": null,
            "grid_template_rows": null,
            "height": null,
            "justify_content": null,
            "justify_items": null,
            "left": null,
            "margin": null,
            "max_height": null,
            "max_width": null,
            "min_height": null,
            "min_width": null,
            "object_fit": null,
            "object_position": null,
            "order": null,
            "overflow": null,
            "overflow_x": null,
            "overflow_y": null,
            "padding": null,
            "right": null,
            "top": null,
            "visibility": null,
            "width": null
          }
        },
        "2a3eb5fdb190400e91d980e4cf014b62": {
          "model_module": "@jupyter-widgets/controls",
          "model_name": "DescriptionStyleModel",
          "model_module_version": "1.5.0",
          "state": {
            "_model_module": "@jupyter-widgets/controls",
            "_model_module_version": "1.5.0",
            "_model_name": "DescriptionStyleModel",
            "_view_count": null,
            "_view_module": "@jupyter-widgets/base",
            "_view_module_version": "1.2.0",
            "_view_name": "StyleView",
            "description_width": ""
          }
        },
        "38e82c2742684988a32d90208bf2d8cd": {
          "model_module": "@jupyter-widgets/controls",
          "model_name": "HBoxModel",
          "model_module_version": "1.5.0",
          "state": {
            "_dom_classes": [],
            "_model_module": "@jupyter-widgets/controls",
            "_model_module_version": "1.5.0",
            "_model_name": "HBoxModel",
            "_view_count": null,
            "_view_module": "@jupyter-widgets/controls",
            "_view_module_version": "1.5.0",
            "_view_name": "HBoxView",
            "box_style": "",
            "children": [
              "IPY_MODEL_cd1063c1eed545b59aa20454644e17bb",
              "IPY_MODEL_71252d51ea724c80a1349e2d64336573",
              "IPY_MODEL_ca95e5f1cc1243419aea2cde994412c8"
            ],
            "layout": "IPY_MODEL_90eb57e0ff22491f9da0aed3b45e79ce"
          }
        },
        "cd1063c1eed545b59aa20454644e17bb": {
          "model_module": "@jupyter-widgets/controls",
          "model_name": "HTMLModel",
          "model_module_version": "1.5.0",
          "state": {
            "_dom_classes": [],
            "_model_module": "@jupyter-widgets/controls",
            "_model_module_version": "1.5.0",
            "_model_name": "HTMLModel",
            "_view_count": null,
            "_view_module": "@jupyter-widgets/controls",
            "_view_module_version": "1.5.0",
            "_view_name": "HTMLView",
            "description": "",
            "description_tooltip": null,
            "layout": "IPY_MODEL_dfc064a11c68409aa881df24aabc86c6",
            "placeholder": "​",
            "style": "IPY_MODEL_35469ad27cd54821995783d044c0e2e0",
            "value": "Downloading model.safetensors: 100%"
          }
        },
        "71252d51ea724c80a1349e2d64336573": {
          "model_module": "@jupyter-widgets/controls",
          "model_name": "FloatProgressModel",
          "model_module_version": "1.5.0",
          "state": {
            "_dom_classes": [],
            "_model_module": "@jupyter-widgets/controls",
            "_model_module_version": "1.5.0",
            "_model_name": "FloatProgressModel",
            "_view_count": null,
            "_view_module": "@jupyter-widgets/controls",
            "_view_module_version": "1.5.0",
            "_view_name": "ProgressView",
            "bar_style": "success",
            "description": "",
            "description_tooltip": null,
            "layout": "IPY_MODEL_c06d556e5f884455ab4946c3d59632c0",
            "max": 440449768,
            "min": 0,
            "orientation": "horizontal",
            "style": "IPY_MODEL_9f1fc06df15a4690a95f3e37ad679d5c",
            "value": 440449768
          }
        },
        "ca95e5f1cc1243419aea2cde994412c8": {
          "model_module": "@jupyter-widgets/controls",
          "model_name": "HTMLModel",
          "model_module_version": "1.5.0",
          "state": {
            "_dom_classes": [],
            "_model_module": "@jupyter-widgets/controls",
            "_model_module_version": "1.5.0",
            "_model_name": "HTMLModel",
            "_view_count": null,
            "_view_module": "@jupyter-widgets/controls",
            "_view_module_version": "1.5.0",
            "_view_name": "HTMLView",
            "description": "",
            "description_tooltip": null,
            "layout": "IPY_MODEL_ddc454e0f52348c481cbb9410161b0fd",
            "placeholder": "​",
            "style": "IPY_MODEL_dd6ecf0245ca4bf6b61d702f19b158d6",
            "value": " 440M/440M [00:04&lt;00:00, 105MB/s]"
          }
        },
        "90eb57e0ff22491f9da0aed3b45e79ce": {
          "model_module": "@jupyter-widgets/base",
          "model_name": "LayoutModel",
          "model_module_version": "1.2.0",
          "state": {
            "_model_module": "@jupyter-widgets/base",
            "_model_module_version": "1.2.0",
            "_model_name": "LayoutModel",
            "_view_count": null,
            "_view_module": "@jupyter-widgets/base",
            "_view_module_version": "1.2.0",
            "_view_name": "LayoutView",
            "align_content": null,
            "align_items": null,
            "align_self": null,
            "border": null,
            "bottom": null,
            "display": null,
            "flex": null,
            "flex_flow": null,
            "grid_area": null,
            "grid_auto_columns": null,
            "grid_auto_flow": null,
            "grid_auto_rows": null,
            "grid_column": null,
            "grid_gap": null,
            "grid_row": null,
            "grid_template_areas": null,
            "grid_template_columns": null,
            "grid_template_rows": null,
            "height": null,
            "justify_content": null,
            "justify_items": null,
            "left": null,
            "margin": null,
            "max_height": null,
            "max_width": null,
            "min_height": null,
            "min_width": null,
            "object_fit": null,
            "object_position": null,
            "order": null,
            "overflow": null,
            "overflow_x": null,
            "overflow_y": null,
            "padding": null,
            "right": null,
            "top": null,
            "visibility": null,
            "width": null
          }
        },
        "dfc064a11c68409aa881df24aabc86c6": {
          "model_module": "@jupyter-widgets/base",
          "model_name": "LayoutModel",
          "model_module_version": "1.2.0",
          "state": {
            "_model_module": "@jupyter-widgets/base",
            "_model_module_version": "1.2.0",
            "_model_name": "LayoutModel",
            "_view_count": null,
            "_view_module": "@jupyter-widgets/base",
            "_view_module_version": "1.2.0",
            "_view_name": "LayoutView",
            "align_content": null,
            "align_items": null,
            "align_self": null,
            "border": null,
            "bottom": null,
            "display": null,
            "flex": null,
            "flex_flow": null,
            "grid_area": null,
            "grid_auto_columns": null,
            "grid_auto_flow": null,
            "grid_auto_rows": null,
            "grid_column": null,
            "grid_gap": null,
            "grid_row": null,
            "grid_template_areas": null,
            "grid_template_columns": null,
            "grid_template_rows": null,
            "height": null,
            "justify_content": null,
            "justify_items": null,
            "left": null,
            "margin": null,
            "max_height": null,
            "max_width": null,
            "min_height": null,
            "min_width": null,
            "object_fit": null,
            "object_position": null,
            "order": null,
            "overflow": null,
            "overflow_x": null,
            "overflow_y": null,
            "padding": null,
            "right": null,
            "top": null,
            "visibility": null,
            "width": null
          }
        },
        "35469ad27cd54821995783d044c0e2e0": {
          "model_module": "@jupyter-widgets/controls",
          "model_name": "DescriptionStyleModel",
          "model_module_version": "1.5.0",
          "state": {
            "_model_module": "@jupyter-widgets/controls",
            "_model_module_version": "1.5.0",
            "_model_name": "DescriptionStyleModel",
            "_view_count": null,
            "_view_module": "@jupyter-widgets/base",
            "_view_module_version": "1.2.0",
            "_view_name": "StyleView",
            "description_width": ""
          }
        },
        "c06d556e5f884455ab4946c3d59632c0": {
          "model_module": "@jupyter-widgets/base",
          "model_name": "LayoutModel",
          "model_module_version": "1.2.0",
          "state": {
            "_model_module": "@jupyter-widgets/base",
            "_model_module_version": "1.2.0",
            "_model_name": "LayoutModel",
            "_view_count": null,
            "_view_module": "@jupyter-widgets/base",
            "_view_module_version": "1.2.0",
            "_view_name": "LayoutView",
            "align_content": null,
            "align_items": null,
            "align_self": null,
            "border": null,
            "bottom": null,
            "display": null,
            "flex": null,
            "flex_flow": null,
            "grid_area": null,
            "grid_auto_columns": null,
            "grid_auto_flow": null,
            "grid_auto_rows": null,
            "grid_column": null,
            "grid_gap": null,
            "grid_row": null,
            "grid_template_areas": null,
            "grid_template_columns": null,
            "grid_template_rows": null,
            "height": null,
            "justify_content": null,
            "justify_items": null,
            "left": null,
            "margin": null,
            "max_height": null,
            "max_width": null,
            "min_height": null,
            "min_width": null,
            "object_fit": null,
            "object_position": null,
            "order": null,
            "overflow": null,
            "overflow_x": null,
            "overflow_y": null,
            "padding": null,
            "right": null,
            "top": null,
            "visibility": null,
            "width": null
          }
        },
        "9f1fc06df15a4690a95f3e37ad679d5c": {
          "model_module": "@jupyter-widgets/controls",
          "model_name": "ProgressStyleModel",
          "model_module_version": "1.5.0",
          "state": {
            "_model_module": "@jupyter-widgets/controls",
            "_model_module_version": "1.5.0",
            "_model_name": "ProgressStyleModel",
            "_view_count": null,
            "_view_module": "@jupyter-widgets/base",
            "_view_module_version": "1.2.0",
            "_view_name": "StyleView",
            "bar_color": null,
            "description_width": ""
          }
        },
        "ddc454e0f52348c481cbb9410161b0fd": {
          "model_module": "@jupyter-widgets/base",
          "model_name": "LayoutModel",
          "model_module_version": "1.2.0",
          "state": {
            "_model_module": "@jupyter-widgets/base",
            "_model_module_version": "1.2.0",
            "_model_name": "LayoutModel",
            "_view_count": null,
            "_view_module": "@jupyter-widgets/base",
            "_view_module_version": "1.2.0",
            "_view_name": "LayoutView",
            "align_content": null,
            "align_items": null,
            "align_self": null,
            "border": null,
            "bottom": null,
            "display": null,
            "flex": null,
            "flex_flow": null,
            "grid_area": null,
            "grid_auto_columns": null,
            "grid_auto_flow": null,
            "grid_auto_rows": null,
            "grid_column": null,
            "grid_gap": null,
            "grid_row": null,
            "grid_template_areas": null,
            "grid_template_columns": null,
            "grid_template_rows": null,
            "height": null,
            "justify_content": null,
            "justify_items": null,
            "left": null,
            "margin": null,
            "max_height": null,
            "max_width": null,
            "min_height": null,
            "min_width": null,
            "object_fit": null,
            "object_position": null,
            "order": null,
            "overflow": null,
            "overflow_x": null,
            "overflow_y": null,
            "padding": null,
            "right": null,
            "top": null,
            "visibility": null,
            "width": null
          }
        },
        "dd6ecf0245ca4bf6b61d702f19b158d6": {
          "model_module": "@jupyter-widgets/controls",
          "model_name": "DescriptionStyleModel",
          "model_module_version": "1.5.0",
          "state": {
            "_model_module": "@jupyter-widgets/controls",
            "_model_module_version": "1.5.0",
            "_model_name": "DescriptionStyleModel",
            "_view_count": null,
            "_view_module": "@jupyter-widgets/base",
            "_view_module_version": "1.2.0",
            "_view_name": "StyleView",
            "description_width": ""
          }
        }
      }
    }
  },
  "nbformat": 4,
  "nbformat_minor": 0
}